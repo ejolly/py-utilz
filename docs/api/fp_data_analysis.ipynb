{
 "cells": [
  {
   "cell_type": "markdown",
   "metadata": {},
   "source": [
    "# Functional programming-style data analysis"
   ]
  },
  {
   "cell_type": "markdown",
   "metadata": {},
   "source": [
    "This notebook demonstrates a \"realistic\" set of operations and pipeline you might write using functions from `utilz` combined with the `toolz` package. It mimics the declarative style of functional-programming more recently popularized in `R` libraries like `dplyr`. "
   ]
  },
  {
   "cell_type": "code",
   "execution_count": 1,
   "metadata": {
    "ExecuteTime": {
     "end_time": "2020-11-22T09:44:55.303335Z",
     "start_time": "2020-11-22T09:44:54.583122Z"
    }
   },
   "outputs": [],
   "source": [
    "import pandas as pd\n",
    "from utilz import randdf, assign, rename, save\n",
    "from toolz import pipe"
   ]
  },
  {
   "cell_type": "markdown",
   "metadata": {},
   "source": [
    "## Verb-based dataframe manipulation"
   ]
  },
  {
   "cell_type": "code",
   "execution_count": 2,
   "metadata": {},
   "outputs": [
    {
     "data": {
      "text/html": "<div>\n<style scoped>\n    .dataframe tbody tr th:only-of-type {\n        vertical-align: middle;\n    }\n\n    .dataframe tbody tr th {\n        vertical-align: top;\n    }\n\n    .dataframe thead th {\n        text-align: right;\n    }\n</style>\n<table border=\"1\" class=\"dataframe\">\n  <thead>\n    <tr style=\"text-align: right;\">\n      <th></th>\n      <th>rt</th>\n      <th>score</th>\n      <th>speed</th>\n      <th>group</th>\n      <th>rt_doubled</th>\n    </tr>\n  </thead>\n  <tbody>\n    <tr>\n      <th>0</th>\n      <td>0.033274</td>\n      <td>0.497035</td>\n      <td>0.963030</td>\n      <td>a</td>\n      <td>0.066549</td>\n    </tr>\n    <tr>\n      <th>1</th>\n      <td>0.320243</td>\n      <td>0.449792</td>\n      <td>0.646103</td>\n      <td>b</td>\n      <td>0.640485</td>\n    </tr>\n    <tr>\n      <th>2</th>\n      <td>0.640274</td>\n      <td>0.432569</td>\n      <td>0.871540</td>\n      <td>c</td>\n      <td>1.280547</td>\n    </tr>\n    <tr>\n      <th>3</th>\n      <td>0.115659</td>\n      <td>0.852093</td>\n      <td>0.311823</td>\n      <td>d</td>\n      <td>0.231318</td>\n    </tr>\n    <tr>\n      <th>4</th>\n      <td>0.200713</td>\n      <td>0.460636</td>\n      <td>0.047897</td>\n      <td>e</td>\n      <td>0.401426</td>\n    </tr>\n  </tbody>\n</table>\n</div>",
      "text/plain": "         rt     score     speed group  rt_doubled\n0  0.033274  0.497035  0.963030     a    0.066549\n1  0.320243  0.449792  0.646103     b    0.640485\n2  0.640274  0.432569  0.871540     c    1.280547\n3  0.115659  0.852093  0.311823     d    0.231318\n4  0.200713  0.460636  0.047897     e    0.401426"
     },
     "execution_count": 2,
     "metadata": {},
     "output_type": "execute_result"
    }
   ],
   "source": [
    "# Setup some random data\n",
    "df = pipe(\n",
    "    randdf((20, 3)),\n",
    "    assign(D=list(\"abcde\") * 4),\n",
    "    rename({\"A\": \"rt\", \"B\": \"score\", \"C\": \"speed\", \"D\": \"group\"}),\n",
    "    assign(rt_doubled=\"rt*2\"),\n",
    "    save(\"test\"),\n",
    ")\n",
    "df.head()"
   ]
  },
  {
   "cell_type": "markdown",
   "metadata": {},
   "source": [
    "### Basic slicing/subsetting\n",
    "`rows` and `cols` behave similarly and can index a Dataframe using queries, slices, or indices."
   ]
  },
  {
   "cell_type": "code",
   "execution_count": 3,
   "metadata": {},
   "outputs": [
    {
     "data": {
      "text/html": "<div>\n<style scoped>\n    .dataframe tbody tr th:only-of-type {\n        vertical-align: middle;\n    }\n\n    .dataframe tbody tr th {\n        vertical-align: top;\n    }\n\n    .dataframe thead th {\n        text-align: right;\n    }\n</style>\n<table border=\"1\" class=\"dataframe\">\n  <thead>\n    <tr style=\"text-align: right;\">\n      <th></th>\n      <th>speed</th>\n      <th>rt</th>\n    </tr>\n  </thead>\n  <tbody>\n    <tr>\n      <th>0</th>\n      <td>0.646103</td>\n      <td>0.320243</td>\n    </tr>\n    <tr>\n      <th>1</th>\n      <td>0.871540</td>\n      <td>0.640274</td>\n    </tr>\n    <tr>\n      <th>2</th>\n      <td>0.327057</td>\n      <td>0.945022</td>\n    </tr>\n    <tr>\n      <th>3</th>\n      <td>0.106485</td>\n      <td>0.992307</td>\n    </tr>\n    <tr>\n      <th>4</th>\n      <td>0.642573</td>\n      <td>0.212407</td>\n    </tr>\n    <tr>\n      <th>5</th>\n      <td>0.035261</td>\n      <td>0.437660</td>\n    </tr>\n    <tr>\n      <th>6</th>\n      <td>0.087360</td>\n      <td>0.928069</td>\n    </tr>\n    <tr>\n      <th>7</th>\n      <td>0.541594</td>\n      <td>0.226964</td>\n    </tr>\n  </tbody>\n</table>\n</div>",
      "text/plain": "      speed        rt\n0  0.646103  0.320243\n1  0.871540  0.640274\n2  0.327057  0.945022\n3  0.106485  0.992307\n4  0.642573  0.212407\n5  0.035261  0.437660\n6  0.087360  0.928069\n7  0.541594  0.226964"
     },
     "execution_count": 3,
     "metadata": {},
     "output_type": "execute_result"
    }
   ],
   "source": [
    "from utilz import rows, cols\n",
    "\n",
    "pipe(df, \n",
    "    rows(\"group == 'c' or group == 'b'\"), \n",
    "    cols(\"rt\", \"speed\")\n",
    "    )\n"
   ]
  },
  {
   "cell_type": "code",
   "execution_count": 4,
   "metadata": {},
   "outputs": [
    {
     "data": {
      "text/html": "<div>\n<style scoped>\n    .dataframe tbody tr th:only-of-type {\n        vertical-align: middle;\n    }\n\n    .dataframe tbody tr th {\n        vertical-align: top;\n    }\n\n    .dataframe thead th {\n        text-align: right;\n    }\n</style>\n<table border=\"1\" class=\"dataframe\">\n  <thead>\n    <tr style=\"text-align: right;\">\n      <th></th>\n      <th>group</th>\n      <th>rt_doubled</th>\n    </tr>\n  </thead>\n  <tbody>\n    <tr>\n      <th>1</th>\n      <td>b</td>\n      <td>0.640485</td>\n    </tr>\n    <tr>\n      <th>9</th>\n      <td>e</td>\n      <td>1.584978</td>\n    </tr>\n    <tr>\n      <th>14</th>\n      <td>e</td>\n      <td>0.629167</td>\n    </tr>\n  </tbody>\n</table>\n</div>",
      "text/plain": "   group  rt_doubled\n1      b    0.640485\n9      e    1.584978\n14     e    0.629167"
     },
     "execution_count": 4,
     "metadata": {},
     "output_type": "execute_result"
    }
   ],
   "source": [
    "pipe(df, \n",
    "    rows([1,9,14]), \n",
    "    cols((3,5))\n",
    "    )"
   ]
  },
  {
   "cell_type": "code",
   "execution_count": 5,
   "metadata": {},
   "outputs": [
    {
     "data": {
      "text/html": "<div>\n<style scoped>\n    .dataframe tbody tr th:only-of-type {\n        vertical-align: middle;\n    }\n\n    .dataframe tbody tr th {\n        vertical-align: top;\n    }\n\n    .dataframe thead th {\n        text-align: right;\n    }\n</style>\n<table border=\"1\" class=\"dataframe\">\n  <thead>\n    <tr style=\"text-align: right;\">\n      <th></th>\n      <th>rt</th>\n      <th>score</th>\n      <th>speed</th>\n      <th>group</th>\n      <th>rt_doubled</th>\n    </tr>\n  </thead>\n  <tbody>\n    <tr>\n      <th>1</th>\n      <td>0.320243</td>\n      <td>0.449792</td>\n      <td>0.646103</td>\n      <td>b</td>\n      <td>0.640485</td>\n    </tr>\n    <tr>\n      <th>3</th>\n      <td>0.115659</td>\n      <td>0.852093</td>\n      <td>0.311823</td>\n      <td>d</td>\n      <td>0.231318</td>\n    </tr>\n    <tr>\n      <th>5</th>\n      <td>0.094301</td>\n      <td>0.374459</td>\n      <td>0.386620</td>\n      <td>a</td>\n      <td>0.188603</td>\n    </tr>\n    <tr>\n      <th>7</th>\n      <td>0.992307</td>\n      <td>0.605558</td>\n      <td>0.106485</td>\n      <td>c</td>\n      <td>1.984614</td>\n    </tr>\n    <tr>\n      <th>9</th>\n      <td>0.792489</td>\n      <td>0.249192</td>\n      <td>0.152526</td>\n      <td>e</td>\n      <td>1.584978</td>\n    </tr>\n  </tbody>\n</table>\n</div>",
      "text/plain": "         rt     score     speed group  rt_doubled\n1  0.320243  0.449792  0.646103     b    0.640485\n3  0.115659  0.852093  0.311823     d    0.231318\n5  0.094301  0.374459  0.386620     a    0.188603\n7  0.992307  0.605558  0.106485     c    1.984614\n9  0.792489  0.249192  0.152526     e    1.584978"
     },
     "execution_count": 5,
     "metadata": {},
     "output_type": "execute_result"
    }
   ],
   "source": [
    "pipe(df, \n",
    "    rows((1,11,2))\n",
    "    )"
   ]
  },
  {
   "cell_type": "markdown",
   "metadata": {},
   "source": [
    "### Summarizing data\n",
    "To perform an operation that results in a *scalar* output per column, use `summarize`. It always return a *smaller* dataframe or series than the original"
   ]
  },
  {
   "cell_type": "markdown",
   "metadata": {},
   "source": [
    "Non-grouped inputs produce *Series* results:"
   ]
  },
  {
   "cell_type": "code",
   "execution_count": 8,
   "metadata": {},
   "outputs": [
    {
     "data": {
      "text/plain": "rt       0.587868\nspeed    0.407247\ndtype: float64"
     },
     "execution_count": 8,
     "metadata": {},
     "output_type": "execute_result"
    }
   ],
   "source": [
    "from utilz import summarize\n",
    "\n",
    "pipe(df, \n",
    "    rows(\"group == 'c' or group == 'b'\"), \n",
    "    summarize(rt='mean',speed='mean')\n",
    "    )"
   ]
  },
  {
   "cell_type": "markdown",
   "metadata": {},
   "source": [
    "Grouped inputs product *DataFrame* results:"
   ]
  },
  {
   "cell_type": "code",
   "execution_count": 9,
   "metadata": {},
   "outputs": [
    {
     "data": {
      "text/html": "<div>\n<style scoped>\n    .dataframe tbody tr th:only-of-type {\n        vertical-align: middle;\n    }\n\n    .dataframe tbody tr th {\n        vertical-align: top;\n    }\n\n    .dataframe thead th {\n        text-align: right;\n    }\n</style>\n<table border=\"1\" class=\"dataframe\">\n  <thead>\n    <tr style=\"text-align: right;\">\n      <th></th>\n      <th>score</th>\n      <th>rt</th>\n    </tr>\n    <tr>\n      <th>group</th>\n      <th></th>\n      <th></th>\n    </tr>\n  </thead>\n  <tbody>\n    <tr>\n      <th>a</th>\n      <td>0.272993</td>\n      <td>0.437812</td>\n    </tr>\n    <tr>\n      <th>b</th>\n      <td>0.387616</td>\n      <td>0.389510</td>\n    </tr>\n    <tr>\n      <th>c</th>\n      <td>0.464710</td>\n      <td>0.325779</td>\n    </tr>\n    <tr>\n      <th>d</th>\n      <td>0.343631</td>\n      <td>0.274298</td>\n    </tr>\n    <tr>\n      <th>e</th>\n      <td>0.551664</td>\n      <td>0.278721</td>\n    </tr>\n  </tbody>\n</table>\n</div>",
      "text/plain": "          score        rt\ngroup                    \na      0.272993  0.437812\nb      0.387616  0.389510\nc      0.464710  0.325779\nd      0.343631  0.274298\ne      0.551664  0.278721"
     },
     "execution_count": 9,
     "metadata": {},
     "output_type": "execute_result"
    }
   ],
   "source": [
    "from utilz import groupby\n",
    "\n",
    "pipe(df, \n",
    "    groupby('group'), \n",
    "    summarize(score = 'mean', rt = 'std')\n",
    "    )"
   ]
  },
  {
   "cell_type": "markdown",
   "metadata": {},
   "source": [
    "### Transforming data\n",
    "To perfom an operation that results in a *non-scalar* output per column, or to ensure that an operation with *scalar* output retains the original shape of the input, use `assign`. It always returns back a DataFrame the *same* size as the original via broadcasting."
   ]
  },
  {
   "cell_type": "markdown",
   "metadata": {},
   "source": [
    "With non-grouped inputs, the mean score is broadcasted across the *entire* DataFrame"
   ]
  },
  {
   "cell_type": "code",
   "execution_count": 10,
   "metadata": {},
   "outputs": [
    {
     "data": {
      "text/html": "<div>\n<style scoped>\n    .dataframe tbody tr th:only-of-type {\n        vertical-align: middle;\n    }\n\n    .dataframe tbody tr th {\n        vertical-align: top;\n    }\n\n    .dataframe thead th {\n        text-align: right;\n    }\n</style>\n<table border=\"1\" class=\"dataframe\">\n  <thead>\n    <tr style=\"text-align: right;\">\n      <th></th>\n      <th>rt</th>\n      <th>score</th>\n      <th>speed</th>\n      <th>group</th>\n      <th>rt_doubled</th>\n      <th>score_centered</th>\n    </tr>\n  </thead>\n  <tbody>\n    <tr>\n      <th>0</th>\n      <td>0.033274</td>\n      <td>0.497035</td>\n      <td>0.963030</td>\n      <td>a</td>\n      <td>0.066549</td>\n      <td>0.404123</td>\n    </tr>\n    <tr>\n      <th>1</th>\n      <td>0.320243</td>\n      <td>0.449792</td>\n      <td>0.646103</td>\n      <td>b</td>\n      <td>0.640485</td>\n      <td>0.404123</td>\n    </tr>\n    <tr>\n      <th>2</th>\n      <td>0.640274</td>\n      <td>0.432569</td>\n      <td>0.871540</td>\n      <td>c</td>\n      <td>1.280547</td>\n      <td>0.404123</td>\n    </tr>\n    <tr>\n      <th>3</th>\n      <td>0.115659</td>\n      <td>0.852093</td>\n      <td>0.311823</td>\n      <td>d</td>\n      <td>0.231318</td>\n      <td>0.404123</td>\n    </tr>\n    <tr>\n      <th>4</th>\n      <td>0.200713</td>\n      <td>0.460636</td>\n      <td>0.047897</td>\n      <td>e</td>\n      <td>0.401426</td>\n      <td>0.404123</td>\n    </tr>\n    <tr>\n      <th>5</th>\n      <td>0.094301</td>\n      <td>0.374459</td>\n      <td>0.386620</td>\n      <td>a</td>\n      <td>0.188603</td>\n      <td>0.404123</td>\n    </tr>\n    <tr>\n      <th>6</th>\n      <td>0.945022</td>\n      <td>0.622679</td>\n      <td>0.327057</td>\n      <td>b</td>\n      <td>1.890043</td>\n      <td>0.404123</td>\n    </tr>\n    <tr>\n      <th>7</th>\n      <td>0.992307</td>\n      <td>0.605558</td>\n      <td>0.106485</td>\n      <td>c</td>\n      <td>1.984614</td>\n      <td>0.404123</td>\n    </tr>\n    <tr>\n      <th>8</th>\n      <td>0.457019</td>\n      <td>0.192776</td>\n      <td>0.995795</td>\n      <td>d</td>\n      <td>0.914038</td>\n      <td>0.404123</td>\n    </tr>\n    <tr>\n      <th>9</th>\n      <td>0.792489</td>\n      <td>0.249192</td>\n      <td>0.152526</td>\n      <td>e</td>\n      <td>1.584978</td>\n      <td>0.404123</td>\n    </tr>\n    <tr>\n      <th>10</th>\n      <td>0.190983</td>\n      <td>0.167855</td>\n      <td>0.827340</td>\n      <td>a</td>\n      <td>0.381967</td>\n      <td>0.404123</td>\n    </tr>\n    <tr>\n      <th>11</th>\n      <td>0.212407</td>\n      <td>0.375698</td>\n      <td>0.642573</td>\n      <td>b</td>\n      <td>0.424815</td>\n      <td>0.404123</td>\n    </tr>\n    <tr>\n      <th>12</th>\n      <td>0.437660</td>\n      <td>0.819114</td>\n      <td>0.035261</td>\n      <td>c</td>\n      <td>0.875319</td>\n      <td>0.404123</td>\n    </tr>\n    <tr>\n      <th>13</th>\n      <td>0.535583</td>\n      <td>0.314200</td>\n      <td>0.410386</td>\n      <td>d</td>\n      <td>1.071167</td>\n      <td>0.404123</td>\n    </tr>\n    <tr>\n      <th>14</th>\n      <td>0.314583</td>\n      <td>0.588293</td>\n      <td>0.865930</td>\n      <td>e</td>\n      <td>0.629167</td>\n      <td>0.404123</td>\n    </tr>\n    <tr>\n      <th>15</th>\n      <td>0.972126</td>\n      <td>0.052625</td>\n      <td>0.193718</td>\n      <td>a</td>\n      <td>1.944253</td>\n      <td>0.404123</td>\n    </tr>\n    <tr>\n      <th>16</th>\n      <td>0.928069</td>\n      <td>0.102295</td>\n      <td>0.087360</td>\n      <td>b</td>\n      <td>1.856139</td>\n      <td>0.404123</td>\n    </tr>\n    <tr>\n      <th>17</th>\n      <td>0.226964</td>\n      <td>0.001599</td>\n      <td>0.541594</td>\n      <td>c</td>\n      <td>0.453929</td>\n      <td>0.404123</td>\n    </tr>\n    <tr>\n      <th>18</th>\n      <td>0.779363</td>\n      <td>0.015456</td>\n      <td>0.770510</td>\n      <td>d</td>\n      <td>1.558725</td>\n      <td>0.404123</td>\n    </tr>\n    <tr>\n      <th>19</th>\n      <td>0.654624</td>\n      <td>0.908534</td>\n      <td>0.044687</td>\n      <td>e</td>\n      <td>1.309247</td>\n      <td>0.404123</td>\n    </tr>\n  </tbody>\n</table>\n</div>",
      "text/plain": "          rt     score     speed group  rt_doubled  score_centered\n0   0.033274  0.497035  0.963030     a    0.066549        0.404123\n1   0.320243  0.449792  0.646103     b    0.640485        0.404123\n2   0.640274  0.432569  0.871540     c    1.280547        0.404123\n3   0.115659  0.852093  0.311823     d    0.231318        0.404123\n4   0.200713  0.460636  0.047897     e    0.401426        0.404123\n5   0.094301  0.374459  0.386620     a    0.188603        0.404123\n6   0.945022  0.622679  0.327057     b    1.890043        0.404123\n7   0.992307  0.605558  0.106485     c    1.984614        0.404123\n8   0.457019  0.192776  0.995795     d    0.914038        0.404123\n9   0.792489  0.249192  0.152526     e    1.584978        0.404123\n10  0.190983  0.167855  0.827340     a    0.381967        0.404123\n11  0.212407  0.375698  0.642573     b    0.424815        0.404123\n12  0.437660  0.819114  0.035261     c    0.875319        0.404123\n13  0.535583  0.314200  0.410386     d    1.071167        0.404123\n14  0.314583  0.588293  0.865930     e    0.629167        0.404123\n15  0.972126  0.052625  0.193718     a    1.944253        0.404123\n16  0.928069  0.102295  0.087360     b    1.856139        0.404123\n17  0.226964  0.001599  0.541594     c    0.453929        0.404123\n18  0.779363  0.015456  0.770510     d    1.558725        0.404123\n19  0.654624  0.908534  0.044687     e    1.309247        0.404123"
     },
     "execution_count": 10,
     "metadata": {},
     "output_type": "execute_result"
    }
   ],
   "source": [
    "pipe(df, assign(score_centered=\"score.mean()\"))\n"
   ]
  },
  {
   "cell_type": "markdown",
   "metadata": {},
   "source": [
    "With grouped inputs, the mean score is broadcasted *within* each group:"
   ]
  },
  {
   "cell_type": "code",
   "execution_count": 11,
   "metadata": {},
   "outputs": [
    {
     "data": {
      "text/html": "<div>\n<style scoped>\n    .dataframe tbody tr th:only-of-type {\n        vertical-align: middle;\n    }\n\n    .dataframe tbody tr th {\n        vertical-align: top;\n    }\n\n    .dataframe thead th {\n        text-align: right;\n    }\n</style>\n<table border=\"1\" class=\"dataframe\">\n  <thead>\n    <tr style=\"text-align: right;\">\n      <th></th>\n      <th>rt</th>\n      <th>score</th>\n      <th>speed</th>\n      <th>group</th>\n      <th>rt_doubled</th>\n      <th>speed_per_group</th>\n    </tr>\n  </thead>\n  <tbody>\n    <tr>\n      <th>0</th>\n      <td>0.033274</td>\n      <td>0.497035</td>\n      <td>0.963030</td>\n      <td>a</td>\n      <td>0.066549</td>\n      <td>0.592677</td>\n    </tr>\n    <tr>\n      <th>1</th>\n      <td>0.320243</td>\n      <td>0.449792</td>\n      <td>0.646103</td>\n      <td>b</td>\n      <td>0.640485</td>\n      <td>0.425773</td>\n    </tr>\n    <tr>\n      <th>2</th>\n      <td>0.640274</td>\n      <td>0.432569</td>\n      <td>0.871540</td>\n      <td>c</td>\n      <td>1.280547</td>\n      <td>0.388720</td>\n    </tr>\n    <tr>\n      <th>3</th>\n      <td>0.115659</td>\n      <td>0.852093</td>\n      <td>0.311823</td>\n      <td>d</td>\n      <td>0.231318</td>\n      <td>0.622129</td>\n    </tr>\n    <tr>\n      <th>4</th>\n      <td>0.200713</td>\n      <td>0.460636</td>\n      <td>0.047897</td>\n      <td>e</td>\n      <td>0.401426</td>\n      <td>0.277760</td>\n    </tr>\n    <tr>\n      <th>5</th>\n      <td>0.094301</td>\n      <td>0.374459</td>\n      <td>0.386620</td>\n      <td>a</td>\n      <td>0.188603</td>\n      <td>0.592677</td>\n    </tr>\n    <tr>\n      <th>6</th>\n      <td>0.945022</td>\n      <td>0.622679</td>\n      <td>0.327057</td>\n      <td>b</td>\n      <td>1.890043</td>\n      <td>0.425773</td>\n    </tr>\n    <tr>\n      <th>7</th>\n      <td>0.992307</td>\n      <td>0.605558</td>\n      <td>0.106485</td>\n      <td>c</td>\n      <td>1.984614</td>\n      <td>0.388720</td>\n    </tr>\n    <tr>\n      <th>8</th>\n      <td>0.457019</td>\n      <td>0.192776</td>\n      <td>0.995795</td>\n      <td>d</td>\n      <td>0.914038</td>\n      <td>0.622129</td>\n    </tr>\n    <tr>\n      <th>9</th>\n      <td>0.792489</td>\n      <td>0.249192</td>\n      <td>0.152526</td>\n      <td>e</td>\n      <td>1.584978</td>\n      <td>0.277760</td>\n    </tr>\n    <tr>\n      <th>10</th>\n      <td>0.190983</td>\n      <td>0.167855</td>\n      <td>0.827340</td>\n      <td>a</td>\n      <td>0.381967</td>\n      <td>0.592677</td>\n    </tr>\n    <tr>\n      <th>11</th>\n      <td>0.212407</td>\n      <td>0.375698</td>\n      <td>0.642573</td>\n      <td>b</td>\n      <td>0.424815</td>\n      <td>0.425773</td>\n    </tr>\n    <tr>\n      <th>12</th>\n      <td>0.437660</td>\n      <td>0.819114</td>\n      <td>0.035261</td>\n      <td>c</td>\n      <td>0.875319</td>\n      <td>0.388720</td>\n    </tr>\n    <tr>\n      <th>13</th>\n      <td>0.535583</td>\n      <td>0.314200</td>\n      <td>0.410386</td>\n      <td>d</td>\n      <td>1.071167</td>\n      <td>0.622129</td>\n    </tr>\n    <tr>\n      <th>14</th>\n      <td>0.314583</td>\n      <td>0.588293</td>\n      <td>0.865930</td>\n      <td>e</td>\n      <td>0.629167</td>\n      <td>0.277760</td>\n    </tr>\n    <tr>\n      <th>15</th>\n      <td>0.972126</td>\n      <td>0.052625</td>\n      <td>0.193718</td>\n      <td>a</td>\n      <td>1.944253</td>\n      <td>0.592677</td>\n    </tr>\n    <tr>\n      <th>16</th>\n      <td>0.928069</td>\n      <td>0.102295</td>\n      <td>0.087360</td>\n      <td>b</td>\n      <td>1.856139</td>\n      <td>0.425773</td>\n    </tr>\n    <tr>\n      <th>17</th>\n      <td>0.226964</td>\n      <td>0.001599</td>\n      <td>0.541594</td>\n      <td>c</td>\n      <td>0.453929</td>\n      <td>0.388720</td>\n    </tr>\n    <tr>\n      <th>18</th>\n      <td>0.779363</td>\n      <td>0.015456</td>\n      <td>0.770510</td>\n      <td>d</td>\n      <td>1.558725</td>\n      <td>0.622129</td>\n    </tr>\n    <tr>\n      <th>19</th>\n      <td>0.654624</td>\n      <td>0.908534</td>\n      <td>0.044687</td>\n      <td>e</td>\n      <td>1.309247</td>\n      <td>0.277760</td>\n    </tr>\n  </tbody>\n</table>\n</div>",
      "text/plain": "          rt     score     speed group  rt_doubled  speed_per_group\n0   0.033274  0.497035  0.963030     a    0.066549         0.592677\n1   0.320243  0.449792  0.646103     b    0.640485         0.425773\n2   0.640274  0.432569  0.871540     c    1.280547         0.388720\n3   0.115659  0.852093  0.311823     d    0.231318         0.622129\n4   0.200713  0.460636  0.047897     e    0.401426         0.277760\n5   0.094301  0.374459  0.386620     a    0.188603         0.592677\n6   0.945022  0.622679  0.327057     b    1.890043         0.425773\n7   0.992307  0.605558  0.106485     c    1.984614         0.388720\n8   0.457019  0.192776  0.995795     d    0.914038         0.622129\n9   0.792489  0.249192  0.152526     e    1.584978         0.277760\n10  0.190983  0.167855  0.827340     a    0.381967         0.592677\n11  0.212407  0.375698  0.642573     b    0.424815         0.425773\n12  0.437660  0.819114  0.035261     c    0.875319         0.388720\n13  0.535583  0.314200  0.410386     d    1.071167         0.622129\n14  0.314583  0.588293  0.865930     e    0.629167         0.277760\n15  0.972126  0.052625  0.193718     a    1.944253         0.592677\n16  0.928069  0.102295  0.087360     b    1.856139         0.425773\n17  0.226964  0.001599  0.541594     c    0.453929         0.388720\n18  0.779363  0.015456  0.770510     d    1.558725         0.622129\n19  0.654624  0.908534  0.044687     e    1.309247         0.277760"
     },
     "execution_count": 11,
     "metadata": {},
     "output_type": "execute_result"
    }
   ],
   "source": [
    "pipe(df, \n",
    "    groupby('group'), \n",
    "    assign(speed_per_group='speed.mean()')\n",
    "    )"
   ]
  },
  {
   "cell_type": "markdown",
   "metadata": {},
   "source": [
    "Here no broadcasting occurs, but the result is reshaped while respecting groups like `transform` in pandas."
   ]
  },
  {
   "cell_type": "code",
   "execution_count": 12,
   "metadata": {},
   "outputs": [
    {
     "data": {
      "text/html": "<div>\n<style scoped>\n    .dataframe tbody tr th:only-of-type {\n        vertical-align: middle;\n    }\n\n    .dataframe tbody tr th {\n        vertical-align: top;\n    }\n\n    .dataframe thead th {\n        text-align: right;\n    }\n</style>\n<table border=\"1\" class=\"dataframe\">\n  <thead>\n    <tr style=\"text-align: right;\">\n      <th></th>\n      <th>rt</th>\n      <th>score</th>\n      <th>speed</th>\n      <th>group</th>\n      <th>rt_doubled</th>\n      <th>score_centered</th>\n      <th>score_norm</th>\n    </tr>\n  </thead>\n  <tbody>\n    <tr>\n      <th>0</th>\n      <td>0.033274</td>\n      <td>0.497035</td>\n      <td>0.963030</td>\n      <td>a</td>\n      <td>0.066549</td>\n      <td>0.224041</td>\n      <td>2.484073</td>\n    </tr>\n    <tr>\n      <th>1</th>\n      <td>0.320243</td>\n      <td>0.449792</td>\n      <td>0.646103</td>\n      <td>b</td>\n      <td>0.640485</td>\n      <td>0.062176</td>\n      <td>2.077163</td>\n    </tr>\n    <tr>\n      <th>2</th>\n      <td>0.640274</td>\n      <td>0.432569</td>\n      <td>0.871540</td>\n      <td>c</td>\n      <td>1.280547</td>\n      <td>-0.032141</td>\n      <td>1.247083</td>\n    </tr>\n    <tr>\n      <th>3</th>\n      <td>0.115659</td>\n      <td>0.852093</td>\n      <td>0.311823</td>\n      <td>d</td>\n      <td>0.231318</td>\n      <td>0.508462</td>\n      <td>2.363717</td>\n    </tr>\n    <tr>\n      <th>4</th>\n      <td>0.200713</td>\n      <td>0.460636</td>\n      <td>0.047897</td>\n      <td>e</td>\n      <td>0.401426</td>\n      <td>-0.091028</td>\n      <td>1.669169</td>\n    </tr>\n    <tr>\n      <th>5</th>\n      <td>0.094301</td>\n      <td>0.374459</td>\n      <td>0.386620</td>\n      <td>a</td>\n      <td>0.188603</td>\n      <td>0.101466</td>\n      <td>1.871467</td>\n    </tr>\n    <tr>\n      <th>6</th>\n      <td>0.945022</td>\n      <td>0.622679</td>\n      <td>0.327057</td>\n      <td>b</td>\n      <td>1.890043</td>\n      <td>0.235063</td>\n      <td>2.875564</td>\n    </tr>\n    <tr>\n      <th>7</th>\n      <td>0.992307</td>\n      <td>0.605558</td>\n      <td>0.106485</td>\n      <td>c</td>\n      <td>1.984614</td>\n      <td>0.140848</td>\n      <td>1.745804</td>\n    </tr>\n    <tr>\n      <th>8</th>\n      <td>0.457019</td>\n      <td>0.192776</td>\n      <td>0.995795</td>\n      <td>d</td>\n      <td>0.914038</td>\n      <td>-0.150855</td>\n      <td>0.534764</td>\n    </tr>\n    <tr>\n      <th>9</th>\n      <td>0.792489</td>\n      <td>0.249192</td>\n      <td>0.152526</td>\n      <td>e</td>\n      <td>1.584978</td>\n      <td>-0.302472</td>\n      <td>0.902976</td>\n    </tr>\n    <tr>\n      <th>10</th>\n      <td>0.190983</td>\n      <td>0.167855</td>\n      <td>0.827340</td>\n      <td>a</td>\n      <td>0.381967</td>\n      <td>-0.105139</td>\n      <td>0.838901</td>\n    </tr>\n    <tr>\n      <th>11</th>\n      <td>0.212407</td>\n      <td>0.375698</td>\n      <td>0.642573</td>\n      <td>b</td>\n      <td>0.424815</td>\n      <td>-0.011918</td>\n      <td>1.734994</td>\n    </tr>\n    <tr>\n      <th>12</th>\n      <td>0.437660</td>\n      <td>0.819114</td>\n      <td>0.035261</td>\n      <td>c</td>\n      <td>0.875319</td>\n      <td>0.354404</td>\n      <td>2.361481</td>\n    </tr>\n    <tr>\n      <th>13</th>\n      <td>0.535583</td>\n      <td>0.314200</td>\n      <td>0.410386</td>\n      <td>d</td>\n      <td>1.071167</td>\n      <td>-0.029431</td>\n      <td>0.871594</td>\n    </tr>\n    <tr>\n      <th>14</th>\n      <td>0.314583</td>\n      <td>0.588293</td>\n      <td>0.865930</td>\n      <td>e</td>\n      <td>0.629167</td>\n      <td>0.036629</td>\n      <td>2.131750</td>\n    </tr>\n    <tr>\n      <th>15</th>\n      <td>0.972126</td>\n      <td>0.052625</td>\n      <td>0.193718</td>\n      <td>a</td>\n      <td>1.944253</td>\n      <td>-0.220369</td>\n      <td>0.263007</td>\n    </tr>\n    <tr>\n      <th>16</th>\n      <td>0.928069</td>\n      <td>0.102295</td>\n      <td>0.087360</td>\n      <td>b</td>\n      <td>1.856139</td>\n      <td>-0.285321</td>\n      <td>0.472403</td>\n    </tr>\n    <tr>\n      <th>17</th>\n      <td>0.226964</td>\n      <td>0.001599</td>\n      <td>0.541594</td>\n      <td>c</td>\n      <td>0.453929</td>\n      <td>-0.463111</td>\n      <td>0.004610</td>\n    </tr>\n    <tr>\n      <th>18</th>\n      <td>0.779363</td>\n      <td>0.015456</td>\n      <td>0.770510</td>\n      <td>d</td>\n      <td>1.558725</td>\n      <td>-0.328175</td>\n      <td>0.042874</td>\n    </tr>\n    <tr>\n      <th>19</th>\n      <td>0.654624</td>\n      <td>0.908534</td>\n      <td>0.044687</td>\n      <td>e</td>\n      <td>1.309247</td>\n      <td>0.356871</td>\n      <td>3.292182</td>\n    </tr>\n  </tbody>\n</table>\n</div>",
      "text/plain": "          rt     score     speed group  rt_doubled  score_centered  score_norm\n0   0.033274  0.497035  0.963030     a    0.066549        0.224041    2.484073\n1   0.320243  0.449792  0.646103     b    0.640485        0.062176    2.077163\n2   0.640274  0.432569  0.871540     c    1.280547       -0.032141    1.247083\n3   0.115659  0.852093  0.311823     d    0.231318        0.508462    2.363717\n4   0.200713  0.460636  0.047897     e    0.401426       -0.091028    1.669169\n5   0.094301  0.374459  0.386620     a    0.188603        0.101466    1.871467\n6   0.945022  0.622679  0.327057     b    1.890043        0.235063    2.875564\n7   0.992307  0.605558  0.106485     c    1.984614        0.140848    1.745804\n8   0.457019  0.192776  0.995795     d    0.914038       -0.150855    0.534764\n9   0.792489  0.249192  0.152526     e    1.584978       -0.302472    0.902976\n10  0.190983  0.167855  0.827340     a    0.381967       -0.105139    0.838901\n11  0.212407  0.375698  0.642573     b    0.424815       -0.011918    1.734994\n12  0.437660  0.819114  0.035261     c    0.875319        0.354404    2.361481\n13  0.535583  0.314200  0.410386     d    1.071167       -0.029431    0.871594\n14  0.314583  0.588293  0.865930     e    0.629167        0.036629    2.131750\n15  0.972126  0.052625  0.193718     a    1.944253       -0.220369    0.263007\n16  0.928069  0.102295  0.087360     b    1.856139       -0.285321    0.472403\n17  0.226964  0.001599  0.541594     c    0.453929       -0.463111    0.004610\n18  0.779363  0.015456  0.770510     d    1.558725       -0.328175    0.042874\n19  0.654624  0.908534  0.044687     e    1.309247        0.356871    3.292182"
     },
     "execution_count": 12,
     "metadata": {},
     "output_type": "execute_result"
    }
   ],
   "source": [
    "pipe(df, \n",
    "    groupby('group'), \n",
    "    assign(\n",
    "        score_centered='score - score.mean()', \n",
    "        score_norm = 'score/score.std()'\n",
    "        )\n",
    "        \n",
    "    )"
   ]
  },
  {
   "cell_type": "markdown",
   "metadata": {},
   "source": [
    "## Efficient analyses using memoization, currying, and caching\n",
    "\n"
   ]
  },
  {
   "cell_type": "markdown",
   "metadata": {},
   "source": [
    "It's convenient to combine these operations using `pipe`, but what if some operations take longer than others? It would be annoying to have to rerun expensive i/o or computate operations while you're debugging or adding another step to your pipeline. This section demonstrates three ways that can dramatically improve efficiency."
   ]
  },
  {
   "cell_type": "markdown",
   "metadata": {},
   "source": [
    "### Memoization\n",
    "\n",
    "**Memoize** a function to save its last input in memory (RAM) and recall it when called with the same arguments rather than re-executing a potentially long running function. Memoized outputs *do not* persist across kernel restarts, and aren't great for functions that have very large or non-pickleable inputs and outputs. A nice use case is simply loading a file. Given the filepath, you're loading the same file each time, so lets just memoize the result, especially if it takes a long time to reread the file:"
   ]
  },
  {
   "cell_type": "code",
   "execution_count": 16,
   "metadata": {},
   "outputs": [],
   "source": [
    "from toolz import memoize\n",
    "from time import sleep\n",
    "\n",
    "@memoize\n",
    "def load(path):\n",
    "    \"Simulate slow loading a file...\"\n",
    "    print(\"loading from disk\")\n",
    "    sleep(5)\n",
    "    return pd.read_csv(path)"
   ]
  },
  {
   "cell_type": "markdown",
   "metadata": {},
   "source": [
    "### Currying\n",
    "**Curry**, also called *partial function application*, is helpful when writing custom functions you want to add to a `pipe`. When curried, a function operates normally when it receives all its required arguments, but turns into a *partial* function when it gets fewer than all its required arguments. This partial function behaves just like the original except with a subset of its arguments \"fixed\". Because `pipe` implicitly passes the output of the last function to the next function in the pipeline, it's not possible to manipulate secondary arguments to a function in the pipeline without currying:"
   ]
  },
  {
   "cell_type": "code",
   "execution_count": null,
   "metadata": {},
   "outputs": [],
   "source": [
    "from toolz import curry\n",
    "\n",
    "@curry\n",
    "def calc_mean(df, normalize=False):\n",
    "    pass\n",
    "\n",
    "# Now this works, otherwise it would complain about the wrong number of arguments\n",
    "# to calc_mean\n",
    "pipe(df,\n",
    "    calc_mean(normalize=True)\n",
    ")\n",
    "\n",
    "# Note: with no kwargs you sometimes have to write the args backwards\n",
    "@curry\n",
    "def calc_mean(norm_value, df):\n",
    "    pass\n"
   ]
  },
  {
   "cell_type": "markdown",
   "metadata": {},
   "source": [
    "### Caching outputs to disk\n",
    "**Cache** so the result of a function is stored to disk in a file made unique by hash of the args and kwargs to the function. Use `utilz.disk_cache` to decorate a function so it caches, which works similar to `toolz.memoize` but stores the result to a file (rather than in memory) and loads the file when called with the same inputs. Essentially you're trading computation time for i/o time. This is usually preferable to `memoize` for larger memory hungry inputs and outputs, and necessary if input or outputs cannot be pickled (e.g. dataframes, arrays, deep objects, etc). Setting the threshold to something like 1 essentially always caches the result. "
   ]
  },
  {
   "cell_type": "code",
   "execution_count": 19,
   "metadata": {},
   "outputs": [],
   "source": [
    "from utilz import disk_cache\n",
    "\n",
    "# We're also using the curry decorator so norm works in the pipeline below\n",
    "# It's not needed to use the disk_cache decorator\n",
    "\n",
    "@curry\n",
    "@disk_cache(threshold=1)\n",
    "def norm(df, num='', denom=''):\n",
    "    \"Simulate expensive function that takes args\"\n",
    "    print(\"computing...\")\n",
    "    sleep(5)\n",
    "    return pd.DataFrame({\"norm\": df[num] / df[denom]})"
   ]
  },
  {
   "cell_type": "markdown",
   "metadata": {},
   "source": [
    "## Putting it together\n",
    "### Pipeline based data analysis with caching and memoization"
   ]
  },
  {
   "cell_type": "markdown",
   "metadata": {},
   "source": [
    "First you might want to clear any local cache, i.e. the `.utilz_cache` folder. Not neccessary, but important so you don't accidently load a disk-cached output without realizing. `utilz` will always let you know if it's caching or loading a cached result to help you.\n"
   ]
  },
  {
   "cell_type": "code",
   "execution_count": 21,
   "metadata": {
    "ExecuteTime": {
     "end_time": "2020-11-22T06:58:52.835402Z",
     "start_time": "2020-11-22T06:58:52.802503Z"
    }
   },
   "outputs": [],
   "source": [
    "from utilz import clear_cache\n",
    "\n",
    "# Clear any existing cache\n",
    "clear_cache()"
   ]
  },
  {
   "cell_type": "markdown",
   "metadata": {},
   "source": [
    "Because we used the `memoize` decorator when defining `load` above, only the first run of this pipeline actually loads the data and incurs an i/o cost. Likewise because `norm` is decorated with `disk_cache` only the first run of norm (with the same prior pipeline outputs) incurs a compute cost."
   ]
  },
  {
   "cell_type": "code",
   "execution_count": 22,
   "metadata": {
    "ExecuteTime": {
     "end_time": "2020-11-22T05:49:39.885447Z",
     "start_time": "2020-11-22T05:49:39.820500Z"
    },
    "scrolled": false
   },
   "outputs": [
    {
     "name": "stdout",
     "output_type": "stream",
     "text": [
      "loading from disk\n",
      "computing...\n",
      "Exceeded compute time. Result cached to .utilz_cache/norm___denom__score--df__9c405c0813bd657babdcd3583202ebea2a7a61819abdb234b93c59dab0d05fcc--num__rt.csv\n"
     ]
    },
    {
     "data": {
      "text/html": "<div>\n<style scoped>\n    .dataframe tbody tr th:only-of-type {\n        vertical-align: middle;\n    }\n\n    .dataframe tbody tr th {\n        vertical-align: top;\n    }\n\n    .dataframe thead th {\n        text-align: right;\n    }\n</style>\n<table border=\"1\" class=\"dataframe\">\n  <thead>\n    <tr style=\"text-align: right;\">\n      <th></th>\n      <th>norm</th>\n    </tr>\n  </thead>\n  <tbody>\n    <tr>\n      <th>0</th>\n      <td>0.876757</td>\n    </tr>\n    <tr>\n      <th>4</th>\n      <td>0.219101</td>\n    </tr>\n    <tr>\n      <th>8</th>\n      <td>1.803562</td>\n    </tr>\n    <tr>\n      <th>12</th>\n      <td>0.080123</td>\n    </tr>\n    <tr>\n      <th>16</th>\n      <td>1.397509</td>\n    </tr>\n    <tr>\n      <th>1</th>\n      <td>0.013055</td>\n    </tr>\n    <tr>\n      <th>5</th>\n      <td>0.293790</td>\n    </tr>\n    <tr>\n      <th>9</th>\n      <td>0.678440</td>\n    </tr>\n    <tr>\n      <th>13</th>\n      <td>1.044078</td>\n    </tr>\n    <tr>\n      <th>17</th>\n      <td>0.495721</td>\n    </tr>\n    <tr>\n      <th>2</th>\n      <td>6.042852</td>\n    </tr>\n    <tr>\n      <th>6</th>\n      <td>2.151508</td>\n    </tr>\n    <tr>\n      <th>10</th>\n      <td>1.042623</td>\n    </tr>\n    <tr>\n      <th>14</th>\n      <td>17.611897</td>\n    </tr>\n    <tr>\n      <th>18</th>\n      <td>0.978583</td>\n    </tr>\n    <tr>\n      <th>3</th>\n      <td>0.782465</td>\n    </tr>\n    <tr>\n      <th>7</th>\n      <td>0.155521</td>\n    </tr>\n    <tr>\n      <th>11</th>\n      <td>2.701494</td>\n    </tr>\n    <tr>\n      <th>15</th>\n      <td>1.126293</td>\n    </tr>\n    <tr>\n      <th>19</th>\n      <td>7.057653</td>\n    </tr>\n  </tbody>\n</table>\n</div>",
      "text/plain": "         norm\n0    0.876757\n4    0.219101\n8    1.803562\n12   0.080123\n16   1.397509\n1    0.013055\n5    0.293790\n9    0.678440\n13   1.044078\n17   0.495721\n2    6.042852\n6    2.151508\n10   1.042623\n14  17.611897\n18   0.978583\n3    0.782465\n7    0.155521\n11   2.701494\n15   1.126293\n19   7.057653"
     },
     "execution_count": 22,
     "metadata": {},
     "output_type": "execute_result"
    }
   ],
   "source": [
    "summary = pipe(\n",
    "    \"test.csv\",\n",
    "    load,\n",
    "    groupby(\"group\"),\n",
    "    assign(\n",
    "        score_centered=\"score - score.mean()\", \n",
    "        score_mean=\"score.mean()\", \n",
    "        score_std=\"score.std()\"),\n",
    "    norm(num='rt',denom='score')\n",
    ")\n",
    "summary"
   ]
  },
  {
   "cell_type": "markdown",
   "metadata": {},
   "source": [
    "Notice how no data loading or expensive computation needs to happen on a second run of this pipeline (no print messages aside from `utilz` telling you it's loading `norm` last cached result):"
   ]
  },
  {
   "cell_type": "code",
   "execution_count": 24,
   "metadata": {
    "ExecuteTime": {
     "end_time": "2020-11-22T05:49:39.885447Z",
     "start_time": "2020-11-22T05:49:39.820500Z"
    },
    "scrolled": false
   },
   "outputs": [
    {
     "name": "stdout",
     "output_type": "stream",
     "text": [
      "Returning norm cached result\n"
     ]
    },
    {
     "data": {
      "text/html": "<div>\n<style scoped>\n    .dataframe tbody tr th:only-of-type {\n        vertical-align: middle;\n    }\n\n    .dataframe tbody tr th {\n        vertical-align: top;\n    }\n\n    .dataframe thead th {\n        text-align: right;\n    }\n</style>\n<table border=\"1\" class=\"dataframe\">\n  <thead>\n    <tr style=\"text-align: right;\">\n      <th></th>\n      <th>norm</th>\n    </tr>\n  </thead>\n  <tbody>\n    <tr>\n      <th>0</th>\n      <td>0.876757</td>\n    </tr>\n    <tr>\n      <th>1</th>\n      <td>0.219101</td>\n    </tr>\n    <tr>\n      <th>2</th>\n      <td>1.803562</td>\n    </tr>\n    <tr>\n      <th>3</th>\n      <td>0.080123</td>\n    </tr>\n    <tr>\n      <th>4</th>\n      <td>1.397509</td>\n    </tr>\n    <tr>\n      <th>5</th>\n      <td>0.013055</td>\n    </tr>\n    <tr>\n      <th>6</th>\n      <td>0.293790</td>\n    </tr>\n    <tr>\n      <th>7</th>\n      <td>0.678440</td>\n    </tr>\n    <tr>\n      <th>8</th>\n      <td>1.044078</td>\n    </tr>\n    <tr>\n      <th>9</th>\n      <td>0.495721</td>\n    </tr>\n    <tr>\n      <th>10</th>\n      <td>6.042852</td>\n    </tr>\n    <tr>\n      <th>11</th>\n      <td>2.151508</td>\n    </tr>\n    <tr>\n      <th>12</th>\n      <td>1.042623</td>\n    </tr>\n    <tr>\n      <th>13</th>\n      <td>17.611897</td>\n    </tr>\n    <tr>\n      <th>14</th>\n      <td>0.978583</td>\n    </tr>\n    <tr>\n      <th>15</th>\n      <td>0.782465</td>\n    </tr>\n    <tr>\n      <th>16</th>\n      <td>0.155521</td>\n    </tr>\n    <tr>\n      <th>17</th>\n      <td>2.701494</td>\n    </tr>\n    <tr>\n      <th>18</th>\n      <td>1.126293</td>\n    </tr>\n    <tr>\n      <th>19</th>\n      <td>7.057653</td>\n    </tr>\n  </tbody>\n</table>\n</div>",
      "text/plain": "         norm\n0    0.876757\n1    0.219101\n2    1.803562\n3    0.080123\n4    1.397509\n5    0.013055\n6    0.293790\n7    0.678440\n8    1.044078\n9    0.495721\n10   6.042852\n11   2.151508\n12   1.042623\n13  17.611897\n14   0.978583\n15   0.782465\n16   0.155521\n17   2.701494\n18   1.126293\n19   7.057653"
     },
     "execution_count": 24,
     "metadata": {},
     "output_type": "execute_result"
    }
   ],
   "source": [
    "summary = pipe(\n",
    "    \"test.csv\",\n",
    "    load,\n",
    "    groupby(\"group\"),\n",
    "    assign(\n",
    "        score_centered=\"score - score.mean()\", \n",
    "        score_mean=\"score.mean()\", \n",
    "        score_std=\"score.std()\"),\n",
    "    norm(num='rt',denom='score')\n",
    ")\n",
    "summary"
   ]
  },
  {
   "cell_type": "markdown",
   "metadata": {},
   "source": [
    "## Summary\n"
   ]
  },
  {
   "cell_type": "markdown",
   "metadata": {},
   "source": [
    "This setup is nice because it allows for both interactive data analysis as well as reproducible scripts. Simply start writing the pipeline steps, and comment out ones you want to skip or debug. In another notebook cell edit the source code of a function in the pipeline and incrementally add to its body, while rerunning the pipeline to see results as you build up your functions.\n",
    "\n",
    "For functions that take a while to run, try decorating them with `memoize` or `disk_cache`. Memoize is nice for loading csv/text files (so you don't need to re-read them from disk each re-run of the pipeline). Cacheing is nice for expensive operations or operations on complex datastructures like arrays and dataframes. Plus, utilz saves them in standard robust file types (.csv. or .h5 rather than pickles) so you're also getting incremental backups of your work. No more need to rely on saved \"state\" in a Juptyer notebook."
   ]
  }
 ],
 "metadata": {
  "hide_input": false,
  "kernelspec": {
   "display_name": "Python 3.8.3 64-bit ('base': conda)",
   "metadata": {
    "interpreter": {
     "hash": "466635ab6a385996495d2368cf660e519cbfcf10c91581e23c990a5c6cc59c93"
    }
   },
   "name": "python3"
  },
  "language_info": {
   "codemirror_mode": {
    "name": "ipython",
    "version": 3
   },
   "file_extension": ".py",
   "mimetype": "text/x-python",
   "name": "python",
   "nbconvert_exporter": "python",
   "pygments_lexer": "ipython3",
   "version": "3.8.3"
  },
  "toc": {
   "base_numbering": 1,
   "nav_menu": {},
   "number_sections": false,
   "sideBar": true,
   "skip_h1_title": false,
   "title_cell": "Table of Contents",
   "title_sidebar": "Contents",
   "toc_cell": false,
   "toc_position": {
    "height": "calc(100% - 180px)",
    "left": "10px",
    "top": "150px",
    "width": "344px"
   },
   "toc_section_display": "block",
   "toc_window_display": true
  }
 },
 "nbformat": 4,
 "nbformat_minor": 4
}