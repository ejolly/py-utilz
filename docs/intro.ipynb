{
 "cells": [
  {
   "cell_type": "markdown",
   "metadata": {},
   "source": [
    "# Overview"
   ]
  },
  {
   "cell_type": "code",
   "execution_count": 1,
   "metadata": {},
   "outputs": [],
   "source": [
    "from utilz import mapcat, pmap, randdf\n",
    "from time import sleep\n",
    "import numpy as np\n",
    "import pandas as pd"
   ]
  },
  {
   "cell_type": "markdown",
   "metadata": {},
   "source": [
    "## 1. Functional tools"
   ]
  },
  {
   "cell_type": "markdown",
   "metadata": {},
   "source": [
    "### `mapcat`: easy concatenation of loop results"
   ]
  },
  {
   "cell_type": "code",
   "execution_count": null,
   "metadata": {},
   "outputs": [],
   "source": [
    "from utilz import mapcat"
   ]
  },
  {
   "cell_type": "markdown",
   "metadata": {},
   "source": [
    "Just like `map` but no need to call `list` after:"
   ]
  },
  {
   "cell_type": "code",
   "execution_count": 16,
   "metadata": {},
   "outputs": [
    {
     "data": {
      "text/plain": [
       "[0, 2, 4, 6, 8, 10, 12, 14, 16, 18]"
      ]
     },
     "execution_count": 16,
     "metadata": {},
     "output_type": "execute_result"
    }
   ],
   "source": [
    "def myfunc(x):\n",
    "    return x * 2\n",
    "\n",
    "mapcat(myfunc, range(10))"
   ]
  },
  {
   "cell_type": "markdown",
   "metadata": {},
   "source": [
    "If `myfunc` is None it can be used to flatten nested lists (max 2 levels deep):"
   ]
  },
  {
   "cell_type": "code",
   "execution_count": 19,
   "metadata": {},
   "outputs": [
    {
     "data": {
      "text/plain": [
       "[1, 2, 3, 4, 5, 6]"
      ]
     },
     "execution_count": 19,
     "metadata": {},
     "output_type": "execute_result"
    }
   ],
   "source": [
    "mapcat(None, [[1,2,3], [4,5,6]])"
   ]
  },
  {
   "cell_type": "markdown",
   "metadata": {},
   "source": [
    "If `myfunc` returns a dataframe, will try to concat the results by default:"
   ]
  },
  {
   "cell_type": "code",
   "execution_count": 21,
   "metadata": {},
   "outputs": [
    {
     "data": {
      "text/html": [
       "<div>\n",
       "<style scoped>\n",
       "    .dataframe tbody tr th:only-of-type {\n",
       "        vertical-align: middle;\n",
       "    }\n",
       "\n",
       "    .dataframe tbody tr th {\n",
       "        vertical-align: top;\n",
       "    }\n",
       "\n",
       "    .dataframe thead th {\n",
       "        text-align: right;\n",
       "    }\n",
       "</style>\n",
       "<table border=\"1\" class=\"dataframe\">\n",
       "  <thead>\n",
       "    <tr style=\"text-align: right;\">\n",
       "      <th></th>\n",
       "      <th>A1</th>\n",
       "      <th>B1</th>\n",
       "      <th>C1</th>\n",
       "    </tr>\n",
       "  </thead>\n",
       "  <tbody>\n",
       "    <tr>\n",
       "      <th>0</th>\n",
       "      <td>0.850319</td>\n",
       "      <td>0.251434</td>\n",
       "      <td>0.080166</td>\n",
       "    </tr>\n",
       "    <tr>\n",
       "      <th>1</th>\n",
       "      <td>0.679445</td>\n",
       "      <td>0.961425</td>\n",
       "      <td>0.800978</td>\n",
       "    </tr>\n",
       "    <tr>\n",
       "      <th>2</th>\n",
       "      <td>0.098042</td>\n",
       "      <td>0.111205</td>\n",
       "      <td>0.004520</td>\n",
       "    </tr>\n",
       "    <tr>\n",
       "      <th>3</th>\n",
       "      <td>0.939616</td>\n",
       "      <td>0.088765</td>\n",
       "      <td>0.642473</td>\n",
       "    </tr>\n",
       "    <tr>\n",
       "      <th>4</th>\n",
       "      <td>0.454300</td>\n",
       "      <td>0.652232</td>\n",
       "      <td>0.121049</td>\n",
       "    </tr>\n",
       "    <tr>\n",
       "      <th>5</th>\n",
       "      <td>0.356389</td>\n",
       "      <td>0.280754</td>\n",
       "      <td>0.193288</td>\n",
       "    </tr>\n",
       "    <tr>\n",
       "      <th>6</th>\n",
       "      <td>0.055517</td>\n",
       "      <td>0.394354</td>\n",
       "      <td>0.611836</td>\n",
       "    </tr>\n",
       "    <tr>\n",
       "      <th>7</th>\n",
       "      <td>0.298881</td>\n",
       "      <td>0.610756</td>\n",
       "      <td>0.956311</td>\n",
       "    </tr>\n",
       "  </tbody>\n",
       "</table>\n",
       "</div>"
      ],
      "text/plain": [
       "         A1        B1        C1\n",
       "0  0.850319  0.251434  0.080166\n",
       "1  0.679445  0.961425  0.800978\n",
       "2  0.098042  0.111205  0.004520\n",
       "3  0.939616  0.088765  0.642473\n",
       "4  0.454300  0.652232  0.121049\n",
       "5  0.356389  0.280754  0.193288\n",
       "6  0.055517  0.394354  0.611836\n",
       "7  0.298881  0.610756  0.956311"
      ]
     },
     "execution_count": 21,
     "metadata": {},
     "output_type": "execute_result"
    }
   ],
   "source": [
    "def myfunc(f):\n",
    "    \"\"\"simulate loading a 2x3 dataframe from file\"\"\"\n",
    "    return randdf(size=(2,3))\n",
    "\n",
    "mapcat(myfunc, range(4))"
   ]
  },
  {
   "cell_type": "markdown",
   "metadata": {},
   "source": [
    "If your `myfunc` returns an array, will try also try concat the results by default, while preserving the output shape. Because `myfunc` returns a 1d array, the final result is 2d:"
   ]
  },
  {
   "cell_type": "code",
   "execution_count": 22,
   "metadata": {},
   "outputs": [
    {
     "data": {
      "text/plain": [
       "array([[0, 1, 2],\n",
       "       [0, 1, 2],\n",
       "       [0, 1, 2],\n",
       "       [0, 1, 2]])"
      ]
     },
     "execution_count": 22,
     "metadata": {},
     "output_type": "execute_result"
    }
   ],
   "source": [
    "def myfunc(f):\n",
    "    \"\"\"Function that returns 1d array\"\"\"\n",
    "    return np.arange(3)\n",
    "\n",
    "mapcat(myfunc, range(4))"
   ]
  },
  {
   "cell_type": "markdown",
   "metadata": {},
   "source": [
    "This is equivalent to passing `axis=1`:"
   ]
  },
  {
   "cell_type": "code",
   "execution_count": 23,
   "metadata": {},
   "outputs": [
    {
     "data": {
      "text/plain": [
       "array([[0, 1, 2],\n",
       "       [0, 1, 2],\n",
       "       [0, 1, 2],\n",
       "       [0, 1, 2]])"
      ]
     },
     "execution_count": 23,
     "metadata": {},
     "output_type": "execute_result"
    }
   ],
   "source": [
    "mapcat(myfunc, range(4), axis=1)"
   ]
  },
  {
   "cell_type": "markdown",
   "metadata": {},
   "source": [
    "You can instead flatten the array, but passing `axis=0`:"
   ]
  },
  {
   "cell_type": "code",
   "execution_count": 24,
   "metadata": {},
   "outputs": [
    {
     "data": {
      "text/plain": [
       "array([0, 1, 2, 0, 1, 2, 0, 1, 2, 0, 1, 2])"
      ]
     },
     "execution_count": 24,
     "metadata": {},
     "output_type": "execute_result"
    }
   ],
   "source": [
    "mapcat(myfunc, range(4), axis=0)"
   ]
  },
  {
   "cell_type": "markdown",
   "metadata": {},
   "source": [
    "Or stack it in a 3rd dimension by passing `axis=2`:"
   ]
  },
  {
   "cell_type": "code",
   "execution_count": 25,
   "metadata": {},
   "outputs": [
    {
     "data": {
      "text/plain": [
       "array([[0, 0, 0, 0],\n",
       "       [1, 1, 1, 1],\n",
       "       [2, 2, 2, 2]])"
      ]
     },
     "execution_count": 25,
     "metadata": {},
     "output_type": "execute_result"
    }
   ],
   "source": [
    "mapcat(myfunc, range(4), axis=2)"
   ]
  },
  {
   "cell_type": "markdown",
   "metadata": {},
   "source": [
    "### `pmap`: easy parallel looping"
   ]
  },
  {
   "cell_type": "code",
   "execution_count": null,
   "metadata": {},
   "outputs": [],
   "source": [
    "from utilz import pmap\n",
    "from time import sleep"
   ]
  },
  {
   "cell_type": "code",
   "execution_count": 27,
   "metadata": {},
   "outputs": [
    {
     "data": {
      "text/plain": [
       "[0, 2, 4, 6, 8, 10, 12, 14, 16, 18]"
      ]
     },
     "execution_count": 27,
     "metadata": {},
     "output_type": "execute_result"
    }
   ],
   "source": [
    "def myfunc(x):\n",
    "    \"\"\"Simulate expensive function\"\"\"\n",
    "    sleep(1)\n",
    "    return x * 2\n",
    "\n",
    "pmap(myfunc, range(10), n_jobs=2)"
   ]
  },
  {
   "cell_type": "markdown",
   "metadata": {},
   "source": [
    "You can easily pass the loop index to `myfunc` by setting `enum=True`:"
   ]
  },
  {
   "cell_type": "code",
   "execution_count": 2,
   "metadata": {},
   "outputs": [
    {
     "data": {
      "text/plain": [
       "[0, 1, 4, 9, 16, 25, 36, 49, 64, 81]"
      ]
     },
     "execution_count": 2,
     "metadata": {},
     "output_type": "execute_result"
    }
   ],
   "source": [
    "# myfunc needs to accept an 'idx' argument\n",
    "def myfunc(x, idx):\n",
    "    \"\"\"Simulate expensive function\"\"\"\n",
    "    sleep(1)\n",
    "    return x * idx\n",
    "\n",
    "pmap(myfunc, range(10), n_jobs=2, enum=True)"
   ]
  },
  {
   "cell_type": "markdown",
   "metadata": {},
   "source": [
    "Likewise if your function uses randomization, you can set the `random_state` to reproduce parallel runs:"
   ]
  },
  {
   "cell_type": "code",
   "execution_count": 4,
   "metadata": {},
   "outputs": [
    {
     "data": {
      "text/plain": [
       "[0.0,\n",
       " 0.7026449924443589,\n",
       " 1.3671148797485828,\n",
       " 2.491197036621863,\n",
       " 2.8137601674196255,\n",
       " 4.388425659603134,\n",
       " 5.805394778570049,\n",
       " 4.548025497425891,\n",
       " 2.529163623883595,\n",
       " 4.026815575448365]"
      ]
     },
     "execution_count": 4,
     "metadata": {},
     "output_type": "execute_result"
    }
   ],
   "source": [
    "# myfunc needs to accept an 'random_seed' argument\n",
    "def myfunc(x, random_state=None):\n",
    "    \"\"\"Simulate expensive function\"\"\"\n",
    "    from utilz import check_random_state\n",
    "\n",
    "    rng = check_random_state(random_state)\n",
    "    sleep(1)\n",
    "    return x * rng.random()\n",
    "\n",
    "\n",
    "pmap(myfunc, range(10), n_jobs=2, random_state=1)"
   ]
  },
  {
   "cell_type": "markdown",
   "metadata": {},
   "source": [
    "Now this second run reproduces the same values:"
   ]
  },
  {
   "cell_type": "code",
   "execution_count": 5,
   "metadata": {},
   "outputs": [
    {
     "data": {
      "text/plain": [
       "[0.0,\n",
       " 0.7026449924443589,\n",
       " 1.3671148797485828,\n",
       " 2.491197036621863,\n",
       " 2.8137601674196255,\n",
       " 4.388425659603134,\n",
       " 5.805394778570049,\n",
       " 4.548025497425891,\n",
       " 2.529163623883595,\n",
       " 4.026815575448365]"
      ]
     },
     "execution_count": 5,
     "metadata": {},
     "output_type": "execute_result"
    }
   ],
   "source": [
    "pmap(myfunc, range(10), n_jobs=2, random_state=1)"
   ]
  },
  {
   "cell_type": "markdown",
   "metadata": {},
   "source": [
    "`pmap` also behaves like `mapcat` and will try to smartly concatenate results:"
   ]
  },
  {
   "cell_type": "code",
   "execution_count": 6,
   "metadata": {},
   "outputs": [
    {
     "data": {
      "text/html": [
       "<div>\n",
       "<style scoped>\n",
       "    .dataframe tbody tr th:only-of-type {\n",
       "        vertical-align: middle;\n",
       "    }\n",
       "\n",
       "    .dataframe tbody tr th {\n",
       "        vertical-align: top;\n",
       "    }\n",
       "\n",
       "    .dataframe thead th {\n",
       "        text-align: right;\n",
       "    }\n",
       "</style>\n",
       "<table border=\"1\" class=\"dataframe\">\n",
       "  <thead>\n",
       "    <tr style=\"text-align: right;\">\n",
       "      <th></th>\n",
       "      <th>A1</th>\n",
       "      <th>B1</th>\n",
       "      <th>C1</th>\n",
       "    </tr>\n",
       "  </thead>\n",
       "  <tbody>\n",
       "    <tr>\n",
       "      <th>0</th>\n",
       "      <td>0.826214</td>\n",
       "      <td>0.744462</td>\n",
       "      <td>0.962846</td>\n",
       "    </tr>\n",
       "    <tr>\n",
       "      <th>1</th>\n",
       "      <td>0.614326</td>\n",
       "      <td>0.701310</td>\n",
       "      <td>0.907144</td>\n",
       "    </tr>\n",
       "    <tr>\n",
       "      <th>2</th>\n",
       "      <td>0.292599</td>\n",
       "      <td>0.178960</td>\n",
       "      <td>0.715301</td>\n",
       "    </tr>\n",
       "    <tr>\n",
       "      <th>3</th>\n",
       "      <td>0.510024</td>\n",
       "      <td>0.374922</td>\n",
       "      <td>0.788807</td>\n",
       "    </tr>\n",
       "    <tr>\n",
       "      <th>4</th>\n",
       "      <td>0.379082</td>\n",
       "      <td>0.949833</td>\n",
       "      <td>0.697136</td>\n",
       "    </tr>\n",
       "    <tr>\n",
       "      <th>5</th>\n",
       "      <td>0.461286</td>\n",
       "      <td>0.692534</td>\n",
       "      <td>0.478875</td>\n",
       "    </tr>\n",
       "    <tr>\n",
       "      <th>6</th>\n",
       "      <td>0.498815</td>\n",
       "      <td>0.983345</td>\n",
       "      <td>0.245962</td>\n",
       "    </tr>\n",
       "    <tr>\n",
       "      <th>7</th>\n",
       "      <td>0.923638</td>\n",
       "      <td>0.476808</td>\n",
       "      <td>0.599911</td>\n",
       "    </tr>\n",
       "    <tr>\n",
       "      <th>8</th>\n",
       "      <td>0.465080</td>\n",
       "      <td>0.821859</td>\n",
       "      <td>0.836529</td>\n",
       "    </tr>\n",
       "    <tr>\n",
       "      <th>9</th>\n",
       "      <td>0.627359</td>\n",
       "      <td>0.181799</td>\n",
       "      <td>0.646754</td>\n",
       "    </tr>\n",
       "    <tr>\n",
       "      <th>10</th>\n",
       "      <td>0.042771</td>\n",
       "      <td>0.264570</td>\n",
       "      <td>0.553826</td>\n",
       "    </tr>\n",
       "    <tr>\n",
       "      <th>11</th>\n",
       "      <td>0.907935</td>\n",
       "      <td>0.449259</td>\n",
       "      <td>0.553558</td>\n",
       "    </tr>\n",
       "    <tr>\n",
       "      <th>12</th>\n",
       "      <td>0.156892</td>\n",
       "      <td>0.058549</td>\n",
       "      <td>0.832429</td>\n",
       "    </tr>\n",
       "    <tr>\n",
       "      <th>13</th>\n",
       "      <td>0.345363</td>\n",
       "      <td>0.300435</td>\n",
       "      <td>0.940180</td>\n",
       "    </tr>\n",
       "    <tr>\n",
       "      <th>14</th>\n",
       "      <td>0.410659</td>\n",
       "      <td>0.050220</td>\n",
       "      <td>0.274929</td>\n",
       "    </tr>\n",
       "    <tr>\n",
       "      <th>15</th>\n",
       "      <td>0.735082</td>\n",
       "      <td>0.099456</td>\n",
       "      <td>0.679427</td>\n",
       "    </tr>\n",
       "    <tr>\n",
       "      <th>16</th>\n",
       "      <td>0.577151</td>\n",
       "      <td>0.891904</td>\n",
       "      <td>0.811770</td>\n",
       "    </tr>\n",
       "    <tr>\n",
       "      <th>17</th>\n",
       "      <td>0.827361</td>\n",
       "      <td>0.629715</td>\n",
       "      <td>0.317891</td>\n",
       "    </tr>\n",
       "    <tr>\n",
       "      <th>18</th>\n",
       "      <td>0.021403</td>\n",
       "      <td>0.875597</td>\n",
       "      <td>0.943128</td>\n",
       "    </tr>\n",
       "    <tr>\n",
       "      <th>19</th>\n",
       "      <td>0.478014</td>\n",
       "      <td>0.095483</td>\n",
       "      <td>0.357768</td>\n",
       "    </tr>\n",
       "  </tbody>\n",
       "</table>\n",
       "</div>"
      ],
      "text/plain": [
       "          A1        B1        C1\n",
       "0   0.826214  0.744462  0.962846\n",
       "1   0.614326  0.701310  0.907144\n",
       "2   0.292599  0.178960  0.715301\n",
       "3   0.510024  0.374922  0.788807\n",
       "4   0.379082  0.949833  0.697136\n",
       "5   0.461286  0.692534  0.478875\n",
       "6   0.498815  0.983345  0.245962\n",
       "7   0.923638  0.476808  0.599911\n",
       "8   0.465080  0.821859  0.836529\n",
       "9   0.627359  0.181799  0.646754\n",
       "10  0.042771  0.264570  0.553826\n",
       "11  0.907935  0.449259  0.553558\n",
       "12  0.156892  0.058549  0.832429\n",
       "13  0.345363  0.300435  0.940180\n",
       "14  0.410659  0.050220  0.274929\n",
       "15  0.735082  0.099456  0.679427\n",
       "16  0.577151  0.891904  0.811770\n",
       "17  0.827361  0.629715  0.317891\n",
       "18  0.021403  0.875597  0.943128\n",
       "19  0.478014  0.095483  0.357768"
      ]
     },
     "execution_count": 6,
     "metadata": {},
     "output_type": "execute_result"
    }
   ],
   "source": [
    "def myfunc(f):\n",
    "    \"\"\"simulate loading a 2x3 dataframe from file\"\"\"\n",
    "    sleep(1)\n",
    "    return randdf(size=(2,3))\n",
    "\n",
    "pmap(myfunc, range(10))"
   ]
  },
  {
   "cell_type": "markdown",
   "metadata": {},
   "source": [
    "## 2. Decorators\n",
    "\n",
    "Utilz decorators can be added to any function to provide some convenient information or checks before or after execution"
   ]
  },
  {
   "cell_type": "markdown",
   "metadata": {},
   "source": [
    "### `show`: print the result of a function call in addition to returning it"
   ]
  },
  {
   "cell_type": "code",
   "execution_count": null,
   "metadata": {},
   "outputs": [],
   "source": [
    "# Coming soon"
   ]
  },
  {
   "cell_type": "markdown",
   "metadata": {},
   "source": [
    "### `log`: print information before and after function execution"
   ]
  },
  {
   "cell_type": "code",
   "execution_count": null,
   "metadata": {},
   "outputs": [],
   "source": [
    "# Coming soon"
   ]
  },
  {
   "cell_type": "markdown",
   "metadata": {},
   "source": [
    "### `timeit`: print how long a function took after it finishes"
   ]
  },
  {
   "cell_type": "code",
   "execution_count": null,
   "metadata": {},
   "outputs": [],
   "source": [
    "# Coming soon"
   ]
  },
  {
   "cell_type": "markdown",
   "metadata": {},
   "source": [
    "### `maybe`: run a function only if a file doesn't exist or a directory isn't empty"
   ]
  },
  {
   "cell_type": "code",
   "execution_count": null,
   "metadata": {},
   "outputs": [],
   "source": [
    "# Coming soon"
   ]
  },
  {
   "cell_type": "markdown",
   "metadata": {},
   "source": [
    "### `expensive`: cache function results to disk and return them on subsequent function calls"
   ]
  },
  {
   "cell_type": "code",
   "execution_count": null,
   "metadata": {},
   "outputs": [],
   "source": [
    "# Coming soon"
   ]
  },
  {
   "cell_type": "markdown",
   "metadata": {},
   "source": [
    "## 3. Dataframe tools\n",
    "\n",
    "Utilz makes working with dataframes a bit easier by offering **decorators** or **extra methods** without altering core pandas functionality: "
   ]
  },
  {
   "cell_type": "markdown",
   "metadata": {},
   "source": [
    "### `.norm_by_group`: center, scale, or z-score separately by group"
   ]
  },
  {
   "cell_type": "code",
   "execution_count": 9,
   "metadata": {},
   "outputs": [
    {
     "data": {
      "text/html": [
       "<div>\n",
       "<style scoped>\n",
       "    .dataframe tbody tr th:only-of-type {\n",
       "        vertical-align: middle;\n",
       "    }\n",
       "\n",
       "    .dataframe tbody tr th {\n",
       "        vertical-align: top;\n",
       "    }\n",
       "\n",
       "    .dataframe thead th {\n",
       "        text-align: right;\n",
       "    }\n",
       "</style>\n",
       "<table border=\"1\" class=\"dataframe\">\n",
       "  <thead>\n",
       "    <tr style=\"text-align: right;\">\n",
       "      <th></th>\n",
       "      <th>A1</th>\n",
       "      <th>B1</th>\n",
       "      <th>C1</th>\n",
       "      <th>group</th>\n",
       "      <th>A1_normed_by_group</th>\n",
       "    </tr>\n",
       "  </thead>\n",
       "  <tbody>\n",
       "    <tr>\n",
       "      <th>0</th>\n",
       "      <td>0.750879</td>\n",
       "      <td>0.553232</td>\n",
       "      <td>0.530478</td>\n",
       "      <td>A</td>\n",
       "      <td>0.043798</td>\n",
       "    </tr>\n",
       "    <tr>\n",
       "      <th>1</th>\n",
       "      <td>0.570674</td>\n",
       "      <td>0.739102</td>\n",
       "      <td>0.073650</td>\n",
       "      <td>A</td>\n",
       "      <td>-1.020684</td>\n",
       "    </tr>\n",
       "    <tr>\n",
       "      <th>2</th>\n",
       "      <td>0.594186</td>\n",
       "      <td>0.168770</td>\n",
       "      <td>0.022596</td>\n",
       "      <td>A</td>\n",
       "      <td>-0.881793</td>\n",
       "    </tr>\n",
       "    <tr>\n",
       "      <th>3</th>\n",
       "      <td>0.820368</td>\n",
       "      <td>0.938592</td>\n",
       "      <td>0.895036</td>\n",
       "      <td>A</td>\n",
       "      <td>0.454270</td>\n",
       "    </tr>\n",
       "    <tr>\n",
       "      <th>4</th>\n",
       "      <td>0.981217</td>\n",
       "      <td>0.077170</td>\n",
       "      <td>0.313783</td>\n",
       "      <td>A</td>\n",
       "      <td>1.404410</td>\n",
       "    </tr>\n",
       "    <tr>\n",
       "      <th>5</th>\n",
       "      <td>0.950427</td>\n",
       "      <td>0.774752</td>\n",
       "      <td>0.158630</td>\n",
       "      <td>B</td>\n",
       "      <td>1.326601</td>\n",
       "    </tr>\n",
       "    <tr>\n",
       "      <th>6</th>\n",
       "      <td>0.414215</td>\n",
       "      <td>0.705356</td>\n",
       "      <td>0.025005</td>\n",
       "      <td>B</td>\n",
       "      <td>-0.082820</td>\n",
       "    </tr>\n",
       "    <tr>\n",
       "      <th>7</th>\n",
       "      <td>0.172715</td>\n",
       "      <td>0.647416</td>\n",
       "      <td>0.042338</td>\n",
       "      <td>B</td>\n",
       "      <td>-0.717596</td>\n",
       "    </tr>\n",
       "    <tr>\n",
       "      <th>8</th>\n",
       "      <td>0.683768</td>\n",
       "      <td>0.019522</td>\n",
       "      <td>0.480834</td>\n",
       "      <td>B</td>\n",
       "      <td>0.625696</td>\n",
       "    </tr>\n",
       "    <tr>\n",
       "      <th>9</th>\n",
       "      <td>0.007492</td>\n",
       "      <td>0.406587</td>\n",
       "      <td>0.824741</td>\n",
       "      <td>B</td>\n",
       "      <td>-1.151881</td>\n",
       "    </tr>\n",
       "  </tbody>\n",
       "</table>\n",
       "</div>"
      ],
      "text/plain": [
       "         A1        B1        C1 group  A1_normed_by_group\n",
       "0  0.750879  0.553232  0.530478     A            0.043798\n",
       "1  0.570674  0.739102  0.073650     A           -1.020684\n",
       "2  0.594186  0.168770  0.022596     A           -0.881793\n",
       "3  0.820368  0.938592  0.895036     A            0.454270\n",
       "4  0.981217  0.077170  0.313783     A            1.404410\n",
       "5  0.950427  0.774752  0.158630     B            1.326601\n",
       "6  0.414215  0.705356  0.025005     B           -0.082820\n",
       "7  0.172715  0.647416  0.042338     B           -0.717596\n",
       "8  0.683768  0.019522  0.480834     B            0.625696\n",
       "9  0.007492  0.406587  0.824741     B           -1.151881"
      ]
     },
     "execution_count": 9,
     "metadata": {},
     "output_type": "execute_result"
    }
   ],
   "source": [
    "# Add a group col\n",
    "df = randdf()\n",
    "df['group'] = ['A'] * 5 + ['B'] * 5\n",
    "\n",
    "# This is a new method!\n",
    "new_df = df.norm_by_group('group', 'A1')\n",
    "new_df"
   ]
  },
  {
   "cell_type": "markdown",
   "metadata": {},
   "source": [
    "You can use the `scale` and `center` args to control whether mean-centering and dividing by standard-deviation are done (both default to `True`). This will also change the generated column name appropriately:"
   ]
  },
  {
   "cell_type": "code",
   "execution_count": 10,
   "metadata": {},
   "outputs": [
    {
     "data": {
      "text/html": [
       "<div>\n",
       "<style scoped>\n",
       "    .dataframe tbody tr th:only-of-type {\n",
       "        vertical-align: middle;\n",
       "    }\n",
       "\n",
       "    .dataframe tbody tr th {\n",
       "        vertical-align: top;\n",
       "    }\n",
       "\n",
       "    .dataframe thead th {\n",
       "        text-align: right;\n",
       "    }\n",
       "</style>\n",
       "<table border=\"1\" class=\"dataframe\">\n",
       "  <thead>\n",
       "    <tr style=\"text-align: right;\">\n",
       "      <th></th>\n",
       "      <th>A1</th>\n",
       "      <th>B1</th>\n",
       "      <th>C1</th>\n",
       "      <th>group</th>\n",
       "      <th>A1_normed_by_group</th>\n",
       "      <th>A1_centered_by_group</th>\n",
       "    </tr>\n",
       "  </thead>\n",
       "  <tbody>\n",
       "    <tr>\n",
       "      <th>0</th>\n",
       "      <td>0.750879</td>\n",
       "      <td>0.553232</td>\n",
       "      <td>0.530478</td>\n",
       "      <td>A</td>\n",
       "      <td>0.043798</td>\n",
       "      <td>0.007415</td>\n",
       "    </tr>\n",
       "    <tr>\n",
       "      <th>1</th>\n",
       "      <td>0.570674</td>\n",
       "      <td>0.739102</td>\n",
       "      <td>0.073650</td>\n",
       "      <td>A</td>\n",
       "      <td>-1.020684</td>\n",
       "      <td>-0.172791</td>\n",
       "    </tr>\n",
       "    <tr>\n",
       "      <th>2</th>\n",
       "      <td>0.594186</td>\n",
       "      <td>0.168770</td>\n",
       "      <td>0.022596</td>\n",
       "      <td>A</td>\n",
       "      <td>-0.881793</td>\n",
       "      <td>-0.149278</td>\n",
       "    </tr>\n",
       "    <tr>\n",
       "      <th>3</th>\n",
       "      <td>0.820368</td>\n",
       "      <td>0.938592</td>\n",
       "      <td>0.895036</td>\n",
       "      <td>A</td>\n",
       "      <td>0.454270</td>\n",
       "      <td>0.076903</td>\n",
       "    </tr>\n",
       "    <tr>\n",
       "      <th>4</th>\n",
       "      <td>0.981217</td>\n",
       "      <td>0.077170</td>\n",
       "      <td>0.313783</td>\n",
       "      <td>A</td>\n",
       "      <td>1.404410</td>\n",
       "      <td>0.237752</td>\n",
       "    </tr>\n",
       "    <tr>\n",
       "      <th>5</th>\n",
       "      <td>0.950427</td>\n",
       "      <td>0.774752</td>\n",
       "      <td>0.158630</td>\n",
       "      <td>B</td>\n",
       "      <td>1.326601</td>\n",
       "      <td>0.504703</td>\n",
       "    </tr>\n",
       "    <tr>\n",
       "      <th>6</th>\n",
       "      <td>0.414215</td>\n",
       "      <td>0.705356</td>\n",
       "      <td>0.025005</td>\n",
       "      <td>B</td>\n",
       "      <td>-0.082820</td>\n",
       "      <td>-0.031509</td>\n",
       "    </tr>\n",
       "    <tr>\n",
       "      <th>7</th>\n",
       "      <td>0.172715</td>\n",
       "      <td>0.647416</td>\n",
       "      <td>0.042338</td>\n",
       "      <td>B</td>\n",
       "      <td>-0.717596</td>\n",
       "      <td>-0.273008</td>\n",
       "    </tr>\n",
       "    <tr>\n",
       "      <th>8</th>\n",
       "      <td>0.683768</td>\n",
       "      <td>0.019522</td>\n",
       "      <td>0.480834</td>\n",
       "      <td>B</td>\n",
       "      <td>0.625696</td>\n",
       "      <td>0.238045</td>\n",
       "    </tr>\n",
       "    <tr>\n",
       "      <th>9</th>\n",
       "      <td>0.007492</td>\n",
       "      <td>0.406587</td>\n",
       "      <td>0.824741</td>\n",
       "      <td>B</td>\n",
       "      <td>-1.151881</td>\n",
       "      <td>-0.438231</td>\n",
       "    </tr>\n",
       "  </tbody>\n",
       "</table>\n",
       "</div>"
      ],
      "text/plain": [
       "         A1        B1        C1 group  A1_normed_by_group  \\\n",
       "0  0.750879  0.553232  0.530478     A            0.043798   \n",
       "1  0.570674  0.739102  0.073650     A           -1.020684   \n",
       "2  0.594186  0.168770  0.022596     A           -0.881793   \n",
       "3  0.820368  0.938592  0.895036     A            0.454270   \n",
       "4  0.981217  0.077170  0.313783     A            1.404410   \n",
       "5  0.950427  0.774752  0.158630     B            1.326601   \n",
       "6  0.414215  0.705356  0.025005     B           -0.082820   \n",
       "7  0.172715  0.647416  0.042338     B           -0.717596   \n",
       "8  0.683768  0.019522  0.480834     B            0.625696   \n",
       "9  0.007492  0.406587  0.824741     B           -1.151881   \n",
       "\n",
       "   A1_centered_by_group  \n",
       "0              0.007415  \n",
       "1             -0.172791  \n",
       "2             -0.149278  \n",
       "3              0.076903  \n",
       "4              0.237752  \n",
       "5              0.504703  \n",
       "6             -0.031509  \n",
       "7             -0.273008  \n",
       "8              0.238045  \n",
       "9             -0.438231  "
      ]
     },
     "execution_count": 10,
     "metadata": {},
     "output_type": "execute_result"
    }
   ],
   "source": [
    "new_df.norm_by_group('group', 'A1', scale=False)"
   ]
  },
  {
   "cell_type": "markdown",
   "metadata": {},
   "source": [
    "## 4. Miscellaneous tools"
   ]
  },
  {
   "cell_type": "markdown",
   "metadata": {},
   "source": [
    "### `randdf`: quickly generate random data"
   ]
  },
  {
   "cell_type": "code",
   "execution_count": null,
   "metadata": {},
   "outputs": [],
   "source": [
    "from utilz import randdf"
   ]
  },
  {
   "cell_type": "code",
   "execution_count": null,
   "metadata": {},
   "outputs": [
    {
     "data": {
      "text/html": [
       "<div>\n",
       "<style scoped>\n",
       "    .dataframe tbody tr th:only-of-type {\n",
       "        vertical-align: middle;\n",
       "    }\n",
       "\n",
       "    .dataframe tbody tr th {\n",
       "        vertical-align: top;\n",
       "    }\n",
       "\n",
       "    .dataframe thead th {\n",
       "        text-align: right;\n",
       "    }\n",
       "</style>\n",
       "<table border=\"1\" class=\"dataframe\">\n",
       "  <thead>\n",
       "    <tr style=\"text-align: right;\">\n",
       "      <th></th>\n",
       "      <th>A1</th>\n",
       "      <th>B1</th>\n",
       "      <th>C1</th>\n",
       "    </tr>\n",
       "  </thead>\n",
       "  <tbody>\n",
       "    <tr>\n",
       "      <th>0</th>\n",
       "      <td>0.823230</td>\n",
       "      <td>0.435518</td>\n",
       "      <td>0.759073</td>\n",
       "    </tr>\n",
       "    <tr>\n",
       "      <th>1</th>\n",
       "      <td>0.202369</td>\n",
       "      <td>0.192461</td>\n",
       "      <td>0.670630</td>\n",
       "    </tr>\n",
       "    <tr>\n",
       "      <th>2</th>\n",
       "      <td>0.082511</td>\n",
       "      <td>0.985877</td>\n",
       "      <td>0.512224</td>\n",
       "    </tr>\n",
       "    <tr>\n",
       "      <th>3</th>\n",
       "      <td>0.360070</td>\n",
       "      <td>0.860255</td>\n",
       "      <td>0.115435</td>\n",
       "    </tr>\n",
       "    <tr>\n",
       "      <th>4</th>\n",
       "      <td>0.882193</td>\n",
       "      <td>0.536968</td>\n",
       "      <td>0.587085</td>\n",
       "    </tr>\n",
       "    <tr>\n",
       "      <th>5</th>\n",
       "      <td>0.714450</td>\n",
       "      <td>0.339533</td>\n",
       "      <td>0.050096</td>\n",
       "    </tr>\n",
       "    <tr>\n",
       "      <th>6</th>\n",
       "      <td>0.520111</td>\n",
       "      <td>0.030953</td>\n",
       "      <td>0.688294</td>\n",
       "    </tr>\n",
       "    <tr>\n",
       "      <th>7</th>\n",
       "      <td>0.385747</td>\n",
       "      <td>0.140701</td>\n",
       "      <td>0.842956</td>\n",
       "    </tr>\n",
       "    <tr>\n",
       "      <th>8</th>\n",
       "      <td>0.781974</td>\n",
       "      <td>0.435973</td>\n",
       "      <td>0.921362</td>\n",
       "    </tr>\n",
       "    <tr>\n",
       "      <th>9</th>\n",
       "      <td>0.603653</td>\n",
       "      <td>0.245250</td>\n",
       "      <td>0.075831</td>\n",
       "    </tr>\n",
       "  </tbody>\n",
       "</table>\n",
       "</div>"
      ],
      "text/plain": [
       "         A1        B1        C1\n",
       "0  0.823230  0.435518  0.759073\n",
       "1  0.202369  0.192461  0.670630\n",
       "2  0.082511  0.985877  0.512224\n",
       "3  0.360070  0.860255  0.115435\n",
       "4  0.882193  0.536968  0.587085\n",
       "5  0.714450  0.339533  0.050096\n",
       "6  0.520111  0.030953  0.688294\n",
       "7  0.385747  0.140701  0.842956\n",
       "8  0.781974  0.435973  0.921362\n",
       "9  0.603653  0.245250  0.075831"
      ]
     },
     "metadata": {},
     "output_type": "display_data"
    }
   ],
   "source": [
    "randdf()"
   ]
  },
  {
   "cell_type": "code",
   "execution_count": null,
   "metadata": {},
   "outputs": [],
   "source": []
  }
 ],
 "metadata": {
  "kernelspec": {
   "display_name": "utilz",
   "language": "python",
   "name": "utilz"
  },
  "language_info": {
   "codemirror_mode": {
    "name": "ipython",
    "version": 3
   },
   "file_extension": ".py",
   "mimetype": "text/x-python",
   "name": "python",
   "nbconvert_exporter": "python",
   "pygments_lexer": "ipython3",
   "version": "3.8.12"
  },
  "orig_nbformat": 4
 },
 "nbformat": 4,
 "nbformat_minor": 2
}
