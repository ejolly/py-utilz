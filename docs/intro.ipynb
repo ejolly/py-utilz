{
 "cells": [
  {
   "attachments": {},
   "cell_type": "markdown",
   "metadata": {},
   "source": [
    "# Overview"
   ]
  },
  {
   "attachments": {},
   "cell_type": "markdown",
   "metadata": {},
   "source": [
    "## 1. Functional tools"
   ]
  },
  {
   "attachments": {},
   "cell_type": "markdown",
   "metadata": {},
   "source": [
    "### Operating on single objects"
   ]
  },
  {
   "cell_type": "code",
   "execution_count": 16,
   "metadata": {},
   "outputs": [],
   "source": [
    "from utilz import do, many, randdf"
   ]
  },
  {
   "attachments": {},
   "cell_type": "markdown",
   "metadata": {},
   "source": [
    "You can use `do` to apply a single function or method to an object"
   ]
  },
  {
   "cell_type": "code",
   "execution_count": 18,
   "metadata": {},
   "outputs": [
    {
     "data": {
      "text/html": [
       "<div>\n",
       "<style scoped>\n",
       "    .dataframe tbody tr th:only-of-type {\n",
       "        vertical-align: middle;\n",
       "    }\n",
       "\n",
       "    .dataframe tbody tr th {\n",
       "        vertical-align: top;\n",
       "    }\n",
       "\n",
       "    .dataframe thead th {\n",
       "        text-align: right;\n",
       "    }\n",
       "</style>\n",
       "<table border=\"1\" class=\"dataframe\">\n",
       "  <thead>\n",
       "    <tr style=\"text-align: right;\">\n",
       "      <th></th>\n",
       "      <th>A1</th>\n",
       "      <th>B1</th>\n",
       "      <th>C1</th>\n",
       "    </tr>\n",
       "  </thead>\n",
       "  <tbody>\n",
       "    <tr>\n",
       "      <th>0</th>\n",
       "      <td>0.076077</td>\n",
       "      <td>0.990881</td>\n",
       "      <td>0.021679</td>\n",
       "    </tr>\n",
       "    <tr>\n",
       "      <th>1</th>\n",
       "      <td>0.914026</td>\n",
       "      <td>0.688789</td>\n",
       "      <td>0.698269</td>\n",
       "    </tr>\n",
       "    <tr>\n",
       "      <th>2</th>\n",
       "      <td>0.635191</td>\n",
       "      <td>0.337502</td>\n",
       "      <td>0.327470</td>\n",
       "    </tr>\n",
       "    <tr>\n",
       "      <th>3</th>\n",
       "      <td>0.942193</td>\n",
       "      <td>0.767003</td>\n",
       "      <td>0.852347</td>\n",
       "    </tr>\n",
       "    <tr>\n",
       "      <th>4</th>\n",
       "      <td>0.178692</td>\n",
       "      <td>0.494257</td>\n",
       "      <td>0.507263</td>\n",
       "    </tr>\n",
       "  </tbody>\n",
       "</table>\n",
       "</div>"
      ],
      "text/plain": [
       "         A1        B1        C1\n",
       "0  0.076077  0.990881  0.021679\n",
       "1  0.914026  0.688789  0.698269\n",
       "2  0.635191  0.337502  0.327470\n",
       "3  0.942193  0.767003  0.852347\n",
       "4  0.178692  0.494257  0.507263"
      ]
     },
     "execution_count": 18,
     "metadata": {},
     "output_type": "execute_result"
    },
    {
     "data": {
      "text/html": [
       "<div>\n",
       "<style scoped>\n",
       "    .dataframe tbody tr th:only-of-type {\n",
       "        vertical-align: middle;\n",
       "    }\n",
       "\n",
       "    .dataframe tbody tr th {\n",
       "        vertical-align: top;\n",
       "    }\n",
       "\n",
       "    .dataframe thead th {\n",
       "        text-align: right;\n",
       "    }\n",
       "</style>\n",
       "<table border=\"1\" class=\"dataframe\">\n",
       "  <thead>\n",
       "    <tr style=\"text-align: right;\">\n",
       "      <th></th>\n",
       "      <th>A1</th>\n",
       "      <th>B1</th>\n",
       "      <th>C1</th>\n",
       "    </tr>\n",
       "  </thead>\n",
       "  <tbody>\n",
       "    <tr>\n",
       "      <th>0</th>\n",
       "      <td>0.076077</td>\n",
       "      <td>0.990881</td>\n",
       "      <td>0.021679</td>\n",
       "    </tr>\n",
       "    <tr>\n",
       "      <th>1</th>\n",
       "      <td>0.914026</td>\n",
       "      <td>0.688789</td>\n",
       "      <td>0.698269</td>\n",
       "    </tr>\n",
       "    <tr>\n",
       "      <th>2</th>\n",
       "      <td>0.635191</td>\n",
       "      <td>0.337502</td>\n",
       "      <td>0.327470</td>\n",
       "    </tr>\n",
       "    <tr>\n",
       "      <th>3</th>\n",
       "      <td>0.942193</td>\n",
       "      <td>0.767003</td>\n",
       "      <td>0.852347</td>\n",
       "    </tr>\n",
       "    <tr>\n",
       "      <th>4</th>\n",
       "      <td>0.178692</td>\n",
       "      <td>0.494257</td>\n",
       "      <td>0.507263</td>\n",
       "    </tr>\n",
       "  </tbody>\n",
       "</table>\n",
       "</div>"
      ],
      "text/plain": [
       "         A1        B1        C1\n",
       "0  0.076077  0.990881  0.021679\n",
       "1  0.914026  0.688789  0.698269\n",
       "2  0.635191  0.337502  0.327470\n",
       "3  0.942193  0.767003  0.852347\n",
       "4  0.178692  0.494257  0.507263"
      ]
     },
     "execution_count": 18,
     "metadata": {},
     "output_type": "execute_result"
    }
   ],
   "source": [
    "df = randdf()\n",
    "\n",
    "do(lambda df: df.head(), df)\n",
    "do('head', df) # sytactic sugar"
   ]
  },
  {
   "attachments": {},
   "cell_type": "markdown",
   "metadata": {},
   "source": [
    "Use can pass function or method arguments as well"
   ]
  },
  {
   "cell_type": "code",
   "execution_count": 19,
   "metadata": {},
   "outputs": [
    {
     "data": {
      "text/html": [
       "<div>\n",
       "<style scoped>\n",
       "    .dataframe tbody tr th:only-of-type {\n",
       "        vertical-align: middle;\n",
       "    }\n",
       "\n",
       "    .dataframe tbody tr th {\n",
       "        vertical-align: top;\n",
       "    }\n",
       "\n",
       "    .dataframe thead th {\n",
       "        text-align: right;\n",
       "    }\n",
       "</style>\n",
       "<table border=\"1\" class=\"dataframe\">\n",
       "  <thead>\n",
       "    <tr style=\"text-align: right;\">\n",
       "      <th></th>\n",
       "      <th>A1</th>\n",
       "      <th>B1</th>\n",
       "      <th>C1</th>\n",
       "    </tr>\n",
       "  </thead>\n",
       "  <tbody>\n",
       "    <tr>\n",
       "      <th>0</th>\n",
       "      <td>0.076077</td>\n",
       "      <td>0.990881</td>\n",
       "      <td>0.021679</td>\n",
       "    </tr>\n",
       "    <tr>\n",
       "      <th>1</th>\n",
       "      <td>0.914026</td>\n",
       "      <td>0.688789</td>\n",
       "      <td>0.698269</td>\n",
       "    </tr>\n",
       "    <tr>\n",
       "      <th>2</th>\n",
       "      <td>0.635191</td>\n",
       "      <td>0.337502</td>\n",
       "      <td>0.327470</td>\n",
       "    </tr>\n",
       "    <tr>\n",
       "      <th>3</th>\n",
       "      <td>0.942193</td>\n",
       "      <td>0.767003</td>\n",
       "      <td>0.852347</td>\n",
       "    </tr>\n",
       "    <tr>\n",
       "      <th>4</th>\n",
       "      <td>0.178692</td>\n",
       "      <td>0.494257</td>\n",
       "      <td>0.507263</td>\n",
       "    </tr>\n",
       "    <tr>\n",
       "      <th>5</th>\n",
       "      <td>0.999359</td>\n",
       "      <td>0.056832</td>\n",
       "      <td>0.254085</td>\n",
       "    </tr>\n",
       "    <tr>\n",
       "      <th>6</th>\n",
       "      <td>0.802454</td>\n",
       "      <td>0.160224</td>\n",
       "      <td>0.843747</td>\n",
       "    </tr>\n",
       "    <tr>\n",
       "      <th>7</th>\n",
       "      <td>0.602545</td>\n",
       "      <td>0.840196</td>\n",
       "      <td>0.007152</td>\n",
       "    </tr>\n",
       "    <tr>\n",
       "      <th>8</th>\n",
       "      <td>0.801355</td>\n",
       "      <td>0.937513</td>\n",
       "      <td>0.052925</td>\n",
       "    </tr>\n",
       "    <tr>\n",
       "      <th>9</th>\n",
       "      <td>0.218896</td>\n",
       "      <td>0.757961</td>\n",
       "      <td>0.057891</td>\n",
       "    </tr>\n",
       "  </tbody>\n",
       "</table>\n",
       "</div>"
      ],
      "text/plain": [
       "         A1        B1        C1\n",
       "0  0.076077  0.990881  0.021679\n",
       "1  0.914026  0.688789  0.698269\n",
       "2  0.635191  0.337502  0.327470\n",
       "3  0.942193  0.767003  0.852347\n",
       "4  0.178692  0.494257  0.507263\n",
       "5  0.999359  0.056832  0.254085\n",
       "6  0.802454  0.160224  0.843747\n",
       "7  0.602545  0.840196  0.007152\n",
       "8  0.801355  0.937513  0.052925\n",
       "9  0.218896  0.757961  0.057891"
      ]
     },
     "execution_count": 19,
     "metadata": {},
     "output_type": "execute_result"
    }
   ],
   "source": [
    "do('head', df, 10)"
   ]
  },
  {
   "attachments": {},
   "cell_type": "markdown",
   "metadata": {},
   "source": [
    "Use `many` to apply a sequence of functions independently to an object"
   ]
  },
  {
   "cell_type": "code",
   "execution_count": 21,
   "metadata": {},
   "outputs": [
    {
     "data": {
      "text/html": [
       "<div>\n",
       "<style scoped>\n",
       "    .dataframe tbody tr th:only-of-type {\n",
       "        vertical-align: middle;\n",
       "    }\n",
       "\n",
       "    .dataframe tbody tr th {\n",
       "        vertical-align: top;\n",
       "    }\n",
       "\n",
       "    .dataframe thead th {\n",
       "        text-align: right;\n",
       "    }\n",
       "</style>\n",
       "<table border=\"1\" class=\"dataframe\">\n",
       "  <thead>\n",
       "    <tr style=\"text-align: right;\">\n",
       "      <th></th>\n",
       "      <th>A1</th>\n",
       "      <th>B1</th>\n",
       "      <th>C1</th>\n",
       "    </tr>\n",
       "  </thead>\n",
       "  <tbody>\n",
       "    <tr>\n",
       "      <th>0</th>\n",
       "      <td>0.076077</td>\n",
       "      <td>0.990881</td>\n",
       "      <td>0.021679</td>\n",
       "    </tr>\n",
       "    <tr>\n",
       "      <th>1</th>\n",
       "      <td>0.914026</td>\n",
       "      <td>0.688789</td>\n",
       "      <td>0.698269</td>\n",
       "    </tr>\n",
       "    <tr>\n",
       "      <th>2</th>\n",
       "      <td>0.635191</td>\n",
       "      <td>0.337502</td>\n",
       "      <td>0.327470</td>\n",
       "    </tr>\n",
       "    <tr>\n",
       "      <th>3</th>\n",
       "      <td>0.942193</td>\n",
       "      <td>0.767003</td>\n",
       "      <td>0.852347</td>\n",
       "    </tr>\n",
       "    <tr>\n",
       "      <th>4</th>\n",
       "      <td>0.178692</td>\n",
       "      <td>0.494257</td>\n",
       "      <td>0.507263</td>\n",
       "    </tr>\n",
       "  </tbody>\n",
       "</table>\n",
       "</div>"
      ],
      "text/plain": [
       "         A1        B1        C1\n",
       "0  0.076077  0.990881  0.021679\n",
       "1  0.914026  0.688789  0.698269\n",
       "2  0.635191  0.337502  0.327470\n",
       "3  0.942193  0.767003  0.852347\n",
       "4  0.178692  0.494257  0.507263"
      ]
     },
     "execution_count": 21,
     "metadata": {},
     "output_type": "execute_result"
    },
    {
     "data": {
      "text/html": [
       "<div>\n",
       "<style scoped>\n",
       "    .dataframe tbody tr th:only-of-type {\n",
       "        vertical-align: middle;\n",
       "    }\n",
       "\n",
       "    .dataframe tbody tr th {\n",
       "        vertical-align: top;\n",
       "    }\n",
       "\n",
       "    .dataframe thead th {\n",
       "        text-align: right;\n",
       "    }\n",
       "</style>\n",
       "<table border=\"1\" class=\"dataframe\">\n",
       "  <thead>\n",
       "    <tr style=\"text-align: right;\">\n",
       "      <th></th>\n",
       "      <th>A1</th>\n",
       "      <th>B1</th>\n",
       "      <th>C1</th>\n",
       "    </tr>\n",
       "  </thead>\n",
       "  <tbody>\n",
       "    <tr>\n",
       "      <th>5</th>\n",
       "      <td>0.999359</td>\n",
       "      <td>0.056832</td>\n",
       "      <td>0.254085</td>\n",
       "    </tr>\n",
       "    <tr>\n",
       "      <th>6</th>\n",
       "      <td>0.802454</td>\n",
       "      <td>0.160224</td>\n",
       "      <td>0.843747</td>\n",
       "    </tr>\n",
       "    <tr>\n",
       "      <th>7</th>\n",
       "      <td>0.602545</td>\n",
       "      <td>0.840196</td>\n",
       "      <td>0.007152</td>\n",
       "    </tr>\n",
       "    <tr>\n",
       "      <th>8</th>\n",
       "      <td>0.801355</td>\n",
       "      <td>0.937513</td>\n",
       "      <td>0.052925</td>\n",
       "    </tr>\n",
       "    <tr>\n",
       "      <th>9</th>\n",
       "      <td>0.218896</td>\n",
       "      <td>0.757961</td>\n",
       "      <td>0.057891</td>\n",
       "    </tr>\n",
       "  </tbody>\n",
       "</table>\n",
       "</div>"
      ],
      "text/plain": [
       "         A1        B1        C1\n",
       "5  0.999359  0.056832  0.254085\n",
       "6  0.802454  0.160224  0.843747\n",
       "7  0.602545  0.840196  0.007152\n",
       "8  0.801355  0.937513  0.052925\n",
       "9  0.218896  0.757961  0.057891"
      ]
     },
     "execution_count": 21,
     "metadata": {},
     "output_type": "execute_result"
    }
   ],
   "source": [
    "results = many(['head', 'tail'], df)\n",
    "results[0]\n",
    "results[1]"
   ]
  },
  {
   "attachments": {},
   "cell_type": "markdown",
   "metadata": {},
   "source": [
    "Use `compose` or a `pipe` to apply a sequence of functions in a row"
   ]
  },
  {
   "cell_type": "code",
   "execution_count": 22,
   "metadata": {},
   "outputs": [],
   "source": [
    "from utilz import compose, pipe"
   ]
  },
  {
   "cell_type": "code",
   "execution_count": 24,
   "metadata": {},
   "outputs": [
    {
     "data": {
      "text/html": [
       "<div>\n",
       "<style scoped>\n",
       "    .dataframe tbody tr th:only-of-type {\n",
       "        vertical-align: middle;\n",
       "    }\n",
       "\n",
       "    .dataframe tbody tr th {\n",
       "        vertical-align: top;\n",
       "    }\n",
       "\n",
       "    .dataframe thead th {\n",
       "        text-align: right;\n",
       "    }\n",
       "</style>\n",
       "<table border=\"1\" class=\"dataframe\">\n",
       "  <thead>\n",
       "    <tr style=\"text-align: right;\">\n",
       "      <th></th>\n",
       "      <th>A1</th>\n",
       "      <th>B1</th>\n",
       "      <th>C1</th>\n",
       "    </tr>\n",
       "  </thead>\n",
       "  <tbody>\n",
       "    <tr>\n",
       "      <th>7</th>\n",
       "      <td>0.602545</td>\n",
       "      <td>0.840196</td>\n",
       "      <td>0.007152</td>\n",
       "    </tr>\n",
       "    <tr>\n",
       "      <th>8</th>\n",
       "      <td>0.801355</td>\n",
       "      <td>0.937513</td>\n",
       "      <td>0.052925</td>\n",
       "    </tr>\n",
       "    <tr>\n",
       "      <th>9</th>\n",
       "      <td>0.218896</td>\n",
       "      <td>0.757961</td>\n",
       "      <td>0.057891</td>\n",
       "    </tr>\n",
       "  </tbody>\n",
       "</table>\n",
       "</div>"
      ],
      "text/plain": [
       "         A1        B1        C1\n",
       "7  0.602545  0.840196  0.007152\n",
       "8  0.801355  0.937513  0.052925\n",
       "9  0.218896  0.757961  0.057891"
      ]
     },
     "execution_count": 24,
     "metadata": {},
     "output_type": "execute_result"
    }
   ],
   "source": [
    "bottom_head = compose(lambda df: df.head(10), lambda df: df.tail(3))\n",
    "bottom_head(df)"
   ]
  },
  {
   "cell_type": "code",
   "execution_count": 25,
   "metadata": {},
   "outputs": [
    {
     "data": {
      "text/html": [
       "<div>\n",
       "<style scoped>\n",
       "    .dataframe tbody tr th:only-of-type {\n",
       "        vertical-align: middle;\n",
       "    }\n",
       "\n",
       "    .dataframe tbody tr th {\n",
       "        vertical-align: top;\n",
       "    }\n",
       "\n",
       "    .dataframe thead th {\n",
       "        text-align: right;\n",
       "    }\n",
       "</style>\n",
       "<table border=\"1\" class=\"dataframe\">\n",
       "  <thead>\n",
       "    <tr style=\"text-align: right;\">\n",
       "      <th></th>\n",
       "      <th>A1</th>\n",
       "      <th>B1</th>\n",
       "      <th>C1</th>\n",
       "    </tr>\n",
       "  </thead>\n",
       "  <tbody>\n",
       "    <tr>\n",
       "      <th>7</th>\n",
       "      <td>0.602545</td>\n",
       "      <td>0.840196</td>\n",
       "      <td>0.007152</td>\n",
       "    </tr>\n",
       "    <tr>\n",
       "      <th>8</th>\n",
       "      <td>0.801355</td>\n",
       "      <td>0.937513</td>\n",
       "      <td>0.052925</td>\n",
       "    </tr>\n",
       "    <tr>\n",
       "      <th>9</th>\n",
       "      <td>0.218896</td>\n",
       "      <td>0.757961</td>\n",
       "      <td>0.057891</td>\n",
       "    </tr>\n",
       "  </tbody>\n",
       "</table>\n",
       "</div>"
      ],
      "text/plain": [
       "         A1        B1        C1\n",
       "7  0.602545  0.840196  0.007152\n",
       "8  0.801355  0.937513  0.052925\n",
       "9  0.218896  0.757961  0.057891"
      ]
     },
     "execution_count": 25,
     "metadata": {},
     "output_type": "execute_result"
    }
   ],
   "source": [
    "pipe(df, \n",
    "     lambda df: df.head(10), \n",
    "     lambda df: df.tail(3)\n",
    "     )"
   ]
  },
  {
   "attachments": {},
   "cell_type": "markdown",
   "metadata": {},
   "source": [
    "Use `iffy` to apply a function if a predicate function is true. It takes a checking function and then a function or value to return if that checking function is true"
   ]
  },
  {
   "cell_type": "code",
   "execution_count": 31,
   "metadata": {},
   "outputs": [
    {
     "data": {
      "text/html": [
       "<div>\n",
       "<style scoped>\n",
       "    .dataframe tbody tr th:only-of-type {\n",
       "        vertical-align: middle;\n",
       "    }\n",
       "\n",
       "    .dataframe tbody tr th {\n",
       "        vertical-align: top;\n",
       "    }\n",
       "\n",
       "    .dataframe thead th {\n",
       "        text-align: right;\n",
       "    }\n",
       "</style>\n",
       "<table border=\"1\" class=\"dataframe\">\n",
       "  <thead>\n",
       "    <tr style=\"text-align: right;\">\n",
       "      <th></th>\n",
       "      <th>A1</th>\n",
       "      <th>B1</th>\n",
       "      <th>C1</th>\n",
       "    </tr>\n",
       "  </thead>\n",
       "  <tbody>\n",
       "    <tr>\n",
       "      <th>0</th>\n",
       "      <td>0.076077</td>\n",
       "      <td>0.990881</td>\n",
       "      <td>0.021679</td>\n",
       "    </tr>\n",
       "    <tr>\n",
       "      <th>1</th>\n",
       "      <td>0.914026</td>\n",
       "      <td>0.688789</td>\n",
       "      <td>0.698269</td>\n",
       "    </tr>\n",
       "    <tr>\n",
       "      <th>2</th>\n",
       "      <td>0.635191</td>\n",
       "      <td>0.337502</td>\n",
       "      <td>0.327470</td>\n",
       "    </tr>\n",
       "  </tbody>\n",
       "</table>\n",
       "</div>"
      ],
      "text/plain": [
       "         A1        B1        C1\n",
       "0  0.076077  0.990881  0.021679\n",
       "1  0.914026  0.688789  0.698269\n",
       "2  0.635191  0.337502  0.327470"
      ]
     },
     "execution_count": 31,
     "metadata": {},
     "output_type": "execute_result"
    },
    {
     "data": {
      "text/plain": [
       "'big df'"
      ]
     },
     "execution_count": 31,
     "metadata": {},
     "output_type": "execute_result"
    },
    {
     "data": {
      "text/html": [
       "<div>\n",
       "<style scoped>\n",
       "    .dataframe tbody tr th:only-of-type {\n",
       "        vertical-align: middle;\n",
       "    }\n",
       "\n",
       "    .dataframe tbody tr th {\n",
       "        vertical-align: top;\n",
       "    }\n",
       "\n",
       "    .dataframe thead th {\n",
       "        text-align: right;\n",
       "    }\n",
       "</style>\n",
       "<table border=\"1\" class=\"dataframe\">\n",
       "  <thead>\n",
       "    <tr style=\"text-align: right;\">\n",
       "      <th></th>\n",
       "      <th>A1</th>\n",
       "      <th>B1</th>\n",
       "      <th>C1</th>\n",
       "    </tr>\n",
       "  </thead>\n",
       "  <tbody>\n",
       "    <tr>\n",
       "      <th>0</th>\n",
       "      <td>0.076077</td>\n",
       "      <td>0.990881</td>\n",
       "      <td>0.021679</td>\n",
       "    </tr>\n",
       "    <tr>\n",
       "      <th>1</th>\n",
       "      <td>0.914026</td>\n",
       "      <td>0.688789</td>\n",
       "      <td>0.698269</td>\n",
       "    </tr>\n",
       "    <tr>\n",
       "      <th>2</th>\n",
       "      <td>0.635191</td>\n",
       "      <td>0.337502</td>\n",
       "      <td>0.327470</td>\n",
       "    </tr>\n",
       "    <tr>\n",
       "      <th>3</th>\n",
       "      <td>0.942193</td>\n",
       "      <td>0.767003</td>\n",
       "      <td>0.852347</td>\n",
       "    </tr>\n",
       "    <tr>\n",
       "      <th>4</th>\n",
       "      <td>0.178692</td>\n",
       "      <td>0.494257</td>\n",
       "      <td>0.507263</td>\n",
       "    </tr>\n",
       "    <tr>\n",
       "      <th>5</th>\n",
       "      <td>0.999359</td>\n",
       "      <td>0.056832</td>\n",
       "      <td>0.254085</td>\n",
       "    </tr>\n",
       "    <tr>\n",
       "      <th>6</th>\n",
       "      <td>0.802454</td>\n",
       "      <td>0.160224</td>\n",
       "      <td>0.843747</td>\n",
       "    </tr>\n",
       "    <tr>\n",
       "      <th>7</th>\n",
       "      <td>0.602545</td>\n",
       "      <td>0.840196</td>\n",
       "      <td>0.007152</td>\n",
       "    </tr>\n",
       "    <tr>\n",
       "      <th>8</th>\n",
       "      <td>0.801355</td>\n",
       "      <td>0.937513</td>\n",
       "      <td>0.052925</td>\n",
       "    </tr>\n",
       "    <tr>\n",
       "      <th>9</th>\n",
       "      <td>0.218896</td>\n",
       "      <td>0.757961</td>\n",
       "      <td>0.057891</td>\n",
       "    </tr>\n",
       "  </tbody>\n",
       "</table>\n",
       "</div>"
      ],
      "text/plain": [
       "         A1        B1        C1\n",
       "0  0.076077  0.990881  0.021679\n",
       "1  0.914026  0.688789  0.698269\n",
       "2  0.635191  0.337502  0.327470\n",
       "3  0.942193  0.767003  0.852347\n",
       "4  0.178692  0.494257  0.507263\n",
       "5  0.999359  0.056832  0.254085\n",
       "6  0.802454  0.160224  0.843747\n",
       "7  0.602545  0.840196  0.007152\n",
       "8  0.801355  0.937513  0.052925\n",
       "9  0.218896  0.757961  0.057891"
      ]
     },
     "execution_count": 31,
     "metadata": {},
     "output_type": "execute_result"
    }
   ],
   "source": [
    "from utilz import iffy\n",
    "\n",
    "# Apply function\n",
    "iffy(lambda df: len(df) > 3, lambda df: df.head(3), df)\n",
    "\n",
    "# Return arbitrary object\n",
    "iffy(lambda df: len(df) > 3, 'big df', df)\n",
    "\n",
    "# If check fails just returns the original object\n",
    "iffy(lambda df: len(df) < 3, lambda df: df.head(3), df)"
   ]
  },
  {
   "attachments": {},
   "cell_type": "markdown",
   "metadata": {},
   "source": [
    "### Operating on iterables"
   ]
  },
  {
   "cell_type": "code",
   "execution_count": 1,
   "metadata": {},
   "outputs": [],
   "source": [
    "from utilz import map, mapcat"
   ]
  },
  {
   "attachments": {},
   "cell_type": "markdown",
   "metadata": {},
   "source": [
    "`map` is just sugar for `list(map())`"
   ]
  },
  {
   "cell_type": "code",
   "execution_count": 12,
   "metadata": {},
   "outputs": [
    {
     "data": {
      "text/plain": [
       "[0, 2, 4, 6, 8, 10, 12, 14, 16, 18]"
      ]
     },
     "execution_count": 12,
     "metadata": {},
     "output_type": "execute_result"
    }
   ],
   "source": [
    "def myfunc(x):\n",
    "    return x * 2\n",
    "\n",
    "map(myfunc, range(10))"
   ]
  },
  {
   "attachments": {},
   "cell_type": "markdown",
   "metadata": {},
   "source": [
    "`mapcat` will concatenate/flattest results:"
   ]
  },
  {
   "cell_type": "code",
   "execution_count": 4,
   "metadata": {},
   "outputs": [
    {
     "data": {
      "text/plain": [
       "[[0], [2], [4], [6], [8], [10], [12], [14], [16], [18]]"
      ]
     },
     "execution_count": 4,
     "metadata": {},
     "output_type": "execute_result"
    },
    {
     "data": {
      "text/plain": [
       "[0, 2, 4, 6, 8, 10, 12, 14, 16, 18]"
      ]
     },
     "execution_count": 4,
     "metadata": {},
     "output_type": "execute_result"
    }
   ],
   "source": [
    "def myfunc(x):\n",
    "    return [x * 2]\n",
    "\n",
    "map(myfunc, range(10))\n",
    "mapcat(myfunc, range(10))"
   ]
  },
  {
   "attachments": {},
   "cell_type": "markdown",
   "metadata": {},
   "source": [
    "If `myfunc` is None it can be used to flatten nested lists (max 2 levels deep):"
   ]
  },
  {
   "cell_type": "code",
   "execution_count": 5,
   "metadata": {},
   "outputs": [
    {
     "data": {
      "text/plain": [
       "[1, 2, 3, 4, 5, 6, 7]"
      ]
     },
     "execution_count": 5,
     "metadata": {},
     "output_type": "execute_result"
    }
   ],
   "source": [
    "mapcat(None, [[1,2,3], [4,5,6], [7]])"
   ]
  },
  {
   "attachments": {},
   "cell_type": "markdown",
   "metadata": {},
   "source": [
    "If `myfunc` returns a dataframe, will try to concat the results by row:"
   ]
  },
  {
   "cell_type": "code",
   "execution_count": 6,
   "metadata": {},
   "outputs": [
    {
     "data": {
      "text/html": [
       "<div>\n",
       "<style scoped>\n",
       "    .dataframe tbody tr th:only-of-type {\n",
       "        vertical-align: middle;\n",
       "    }\n",
       "\n",
       "    .dataframe tbody tr th {\n",
       "        vertical-align: top;\n",
       "    }\n",
       "\n",
       "    .dataframe thead th {\n",
       "        text-align: right;\n",
       "    }\n",
       "</style>\n",
       "<table border=\"1\" class=\"dataframe\">\n",
       "  <thead>\n",
       "    <tr style=\"text-align: right;\">\n",
       "      <th></th>\n",
       "      <th>A1</th>\n",
       "      <th>B1</th>\n",
       "      <th>C1</th>\n",
       "    </tr>\n",
       "  </thead>\n",
       "  <tbody>\n",
       "    <tr>\n",
       "      <th>0</th>\n",
       "      <td>0.723497</td>\n",
       "      <td>0.397081</td>\n",
       "      <td>0.477959</td>\n",
       "    </tr>\n",
       "    <tr>\n",
       "      <th>1</th>\n",
       "      <td>0.981362</td>\n",
       "      <td>0.465690</td>\n",
       "      <td>0.505523</td>\n",
       "    </tr>\n",
       "    <tr>\n",
       "      <th>2</th>\n",
       "      <td>0.254038</td>\n",
       "      <td>0.692296</td>\n",
       "      <td>0.589320</td>\n",
       "    </tr>\n",
       "    <tr>\n",
       "      <th>3</th>\n",
       "      <td>0.076432</td>\n",
       "      <td>0.229396</td>\n",
       "      <td>0.183292</td>\n",
       "    </tr>\n",
       "    <tr>\n",
       "      <th>4</th>\n",
       "      <td>0.317140</td>\n",
       "      <td>0.187555</td>\n",
       "      <td>0.451125</td>\n",
       "    </tr>\n",
       "    <tr>\n",
       "      <th>5</th>\n",
       "      <td>0.613190</td>\n",
       "      <td>0.191327</td>\n",
       "      <td>0.634255</td>\n",
       "    </tr>\n",
       "    <tr>\n",
       "      <th>6</th>\n",
       "      <td>0.678660</td>\n",
       "      <td>0.456217</td>\n",
       "      <td>0.492318</td>\n",
       "    </tr>\n",
       "    <tr>\n",
       "      <th>7</th>\n",
       "      <td>0.217005</td>\n",
       "      <td>0.730834</td>\n",
       "      <td>0.310409</td>\n",
       "    </tr>\n",
       "  </tbody>\n",
       "</table>\n",
       "</div>"
      ],
      "text/plain": [
       "         A1        B1        C1\n",
       "0  0.723497  0.397081  0.477959\n",
       "1  0.981362  0.465690  0.505523\n",
       "2  0.254038  0.692296  0.589320\n",
       "3  0.076432  0.229396  0.183292\n",
       "4  0.317140  0.187555  0.451125\n",
       "5  0.613190  0.191327  0.634255\n",
       "6  0.678660  0.456217  0.492318\n",
       "7  0.217005  0.730834  0.310409"
      ]
     },
     "execution_count": 6,
     "metadata": {},
     "output_type": "execute_result"
    }
   ],
   "source": [
    "from utilz import randdf\n",
    "\n",
    "def myfunc(f):\n",
    "    \"\"\"simulate loading a 2x3 dataframe from file\"\"\"\n",
    "    return randdf(size=(2,3))\n",
    "\n",
    "mapcat(myfunc, range(4))"
   ]
  },
  {
   "attachments": {},
   "cell_type": "markdown",
   "metadata": {},
   "source": [
    "If your `myfunc` returns an array, will try also try concat the results by default, while preserving the output shape. Because `myfunc` returns a 1d array, the final result is 2d:"
   ]
  },
  {
   "cell_type": "code",
   "execution_count": 8,
   "metadata": {},
   "outputs": [
    {
     "data": {
      "text/plain": [
       "array([[0, 1, 2],\n",
       "       [0, 1, 2],\n",
       "       [0, 1, 2],\n",
       "       [0, 1, 2]])"
      ]
     },
     "execution_count": 8,
     "metadata": {},
     "output_type": "execute_result"
    }
   ],
   "source": [
    "import numpy as np\n",
    "\n",
    "def myfunc(f):\n",
    "    \"\"\"Function that returns 1d array\"\"\"\n",
    "    return np.arange(3)\n",
    "\n",
    "mapcat(myfunc, range(4))"
   ]
  },
  {
   "attachments": {},
   "cell_type": "markdown",
   "metadata": {},
   "source": [
    "This is equivalent to passing `concat_axis=1`:"
   ]
  },
  {
   "cell_type": "code",
   "execution_count": 9,
   "metadata": {},
   "outputs": [
    {
     "data": {
      "text/plain": [
       "array([[0, 1, 2],\n",
       "       [0, 1, 2],\n",
       "       [0, 1, 2],\n",
       "       [0, 1, 2]])"
      ]
     },
     "execution_count": 9,
     "metadata": {},
     "output_type": "execute_result"
    }
   ],
   "source": [
    "mapcat(myfunc, range(4), concat_axis=1)"
   ]
  },
  {
   "attachments": {},
   "cell_type": "markdown",
   "metadata": {},
   "source": [
    "You can instead flatten the array, but passing `concat_axis=0`:"
   ]
  },
  {
   "cell_type": "code",
   "execution_count": 10,
   "metadata": {},
   "outputs": [
    {
     "data": {
      "text/plain": [
       "array([0, 1, 2, 0, 1, 2, 0, 1, 2, 0, 1, 2])"
      ]
     },
     "execution_count": 10,
     "metadata": {},
     "output_type": "execute_result"
    }
   ],
   "source": [
    "mapcat(myfunc, range(4), concat_axis=0)"
   ]
  },
  {
   "attachments": {},
   "cell_type": "markdown",
   "metadata": {},
   "source": [
    "Or stack it in a 3rd dimension by passing `concat_axis=2`:"
   ]
  },
  {
   "cell_type": "code",
   "execution_count": 11,
   "metadata": {},
   "outputs": [
    {
     "data": {
      "text/plain": [
       "array([[0, 0, 0, 0],\n",
       "       [1, 1, 1, 1],\n",
       "       [2, 2, 2, 2]])"
      ]
     },
     "execution_count": 11,
     "metadata": {},
     "output_type": "execute_result"
    }
   ],
   "source": [
    "mapcat(myfunc, range(4), concat_axis=2)"
   ]
  },
  {
   "attachments": {},
   "cell_type": "markdown",
   "metadata": {},
   "source": [
    "both `map` and `mapcat` support easy parallel looping just be changing the `n_jobs` argument:"
   ]
  },
  {
   "cell_type": "code",
   "execution_count": 13,
   "metadata": {},
   "outputs": [
    {
     "data": {
      "text/plain": [
       "[0, 2, 4, 6, 8, 10, 12, 14, 16, 18]"
      ]
     },
     "execution_count": 13,
     "metadata": {},
     "output_type": "execute_result"
    }
   ],
   "source": [
    "from time import sleep\n",
    "\n",
    "def myfunc(x):\n",
    "    \"\"\"Simulate expensive function\"\"\"\n",
    "    sleep(1)\n",
    "    return x * 2\n",
    "\n",
    "map(myfunc, range(10), n_jobs=2)"
   ]
  },
  {
   "attachments": {},
   "cell_type": "markdown",
   "metadata": {},
   "source": [
    "You can easily pass the loop index to `myfunc` by setting `enum=True`:"
   ]
  },
  {
   "cell_type": "code",
   "execution_count": 13,
   "metadata": {},
   "outputs": [
    {
     "data": {
      "text/plain": [
       "[0, 1, 4, 9, 16, 25, 36, 49, 64, 81]"
      ]
     },
     "execution_count": 13,
     "metadata": {},
     "output_type": "execute_result"
    }
   ],
   "source": [
    "# myfunc needs to accept an 'idx' argument\n",
    "def myfunc(x, idx):\n",
    "    \"\"\"Simulate expensive function\"\"\"\n",
    "    sleep(1)\n",
    "    return x * idx\n",
    "\n",
    "mapcat(myfunc, range(10), n_jobs=2, enum=True)"
   ]
  },
  {
   "attachments": {},
   "cell_type": "markdown",
   "metadata": {},
   "source": [
    "Likewise if your function uses randomization, you can set the `random_state` to reproduce parallel runs:"
   ]
  },
  {
   "cell_type": "code",
   "execution_count": 14,
   "metadata": {},
   "outputs": [
    {
     "data": {
      "text/plain": [
       "[0.0,\n",
       " 0.7026449924443589,\n",
       " 1.3671148797485828,\n",
       " 2.491197036621863,\n",
       " 2.8137601674196255,\n",
       " 4.388425659603134,\n",
       " 5.805394778570049,\n",
       " 4.548025497425891,\n",
       " 2.529163623883595,\n",
       " 4.026815575448365]"
      ]
     },
     "execution_count": 14,
     "metadata": {},
     "output_type": "execute_result"
    }
   ],
   "source": [
    "# myfunc needs to accept an 'random_seed' argument\n",
    "def myfunc(x, random_state=None):\n",
    "    \"\"\"Simulate expensive function\"\"\"\n",
    "    from utilz import check_random_state\n",
    "\n",
    "    rng = check_random_state(random_state)\n",
    "    sleep(1)\n",
    "    return x * rng.random()\n",
    "\n",
    "\n",
    "map(myfunc, range(10), n_jobs=2, random_state=1)"
   ]
  },
  {
   "attachments": {},
   "cell_type": "markdown",
   "metadata": {},
   "source": [
    "Now this second run reproduces the same values:"
   ]
  },
  {
   "cell_type": "code",
   "execution_count": 15,
   "metadata": {},
   "outputs": [
    {
     "data": {
      "text/plain": [
       "[0.0,\n",
       " 0.7026449924443589,\n",
       " 1.3671148797485828,\n",
       " 2.491197036621863,\n",
       " 2.8137601674196255,\n",
       " 4.388425659603134,\n",
       " 5.805394778570049,\n",
       " 4.548025497425891,\n",
       " 2.529163623883595,\n",
       " 4.026815575448365]"
      ]
     },
     "execution_count": 15,
     "metadata": {},
     "output_type": "execute_result"
    }
   ],
   "source": [
    "map(myfunc, range(10), n_jobs=2, random_state=1)"
   ]
  },
  {
   "attachments": {},
   "cell_type": "markdown",
   "metadata": {},
   "source": [
    "## 2. Decorators\n",
    "\n",
    "`utilz` [decorators](./api/decorators.md) can be added to any function to provide some convenient information or checks before or after execution. Currently these include:\n",
    "\n",
    "- `expensive`: cache a function result to disk and load it on reruns\n",
    "- `log`: print shape, size, len of an arg before and after function execution\n",
    "- `maybe`: run a function only if a file doesn't exist or a dir isn't empty\n",
    "- `show`: print the result of a function in addition to returning it\n",
    "- `timeit`: print how long a function took to evaluate"
   ]
  },
  {
   "attachments": {},
   "cell_type": "markdown",
   "metadata": {},
   "source": [
    "## 3. Dataframe tools\n",
    "\n",
    "Utilz makes working with dataframes a bit easier by offering **extra methods** without altering core pandas functionality. You don't need to import anything to use these methods. They're automatically available after importing anything from `utilz`. Currently these include:\n",
    "\n",
    "- `norm_by_group`: center, scale, or z-score separately by group\n",
    "- `.assert_same_nunique`: make sure groups have the same number of unique values in a particular column\n",
    "- `.assert_balanced_groups`: make sure groups have the same size"
   ]
  },
  {
   "attachments": {},
   "cell_type": "markdown",
   "metadata": {},
   "source": [
    "### Example usage"
   ]
  },
  {
   "cell_type": "code",
   "execution_count": 5,
   "metadata": {},
   "outputs": [
    {
     "data": {
      "text/html": [
       "<div>\n",
       "<style scoped>\n",
       "    .dataframe tbody tr th:only-of-type {\n",
       "        vertical-align: middle;\n",
       "    }\n",
       "\n",
       "    .dataframe tbody tr th {\n",
       "        vertical-align: top;\n",
       "    }\n",
       "\n",
       "    .dataframe thead th {\n",
       "        text-align: right;\n",
       "    }\n",
       "</style>\n",
       "<table border=\"1\" class=\"dataframe\">\n",
       "  <thead>\n",
       "    <tr style=\"text-align: right;\">\n",
       "      <th></th>\n",
       "      <th>A1</th>\n",
       "      <th>B1</th>\n",
       "      <th>C1</th>\n",
       "      <th>group</th>\n",
       "      <th>A1_normed_by_group</th>\n",
       "    </tr>\n",
       "  </thead>\n",
       "  <tbody>\n",
       "    <tr>\n",
       "      <th>0</th>\n",
       "      <td>0.045894</td>\n",
       "      <td>0.093716</td>\n",
       "      <td>0.932221</td>\n",
       "      <td>A</td>\n",
       "      <td>A1</td>\n",
       "    </tr>\n",
       "    <tr>\n",
       "      <th>1</th>\n",
       "      <td>0.738293</td>\n",
       "      <td>0.249943</td>\n",
       "      <td>0.518687</td>\n",
       "      <td>A</td>\n",
       "      <td>A1</td>\n",
       "    </tr>\n",
       "    <tr>\n",
       "      <th>2</th>\n",
       "      <td>0.357182</td>\n",
       "      <td>0.454217</td>\n",
       "      <td>0.575472</td>\n",
       "      <td>A</td>\n",
       "      <td>A1</td>\n",
       "    </tr>\n",
       "    <tr>\n",
       "      <th>3</th>\n",
       "      <td>0.289010</td>\n",
       "      <td>0.453426</td>\n",
       "      <td>0.211871</td>\n",
       "      <td>A</td>\n",
       "      <td>A1</td>\n",
       "    </tr>\n",
       "    <tr>\n",
       "      <th>4</th>\n",
       "      <td>0.328628</td>\n",
       "      <td>0.396641</td>\n",
       "      <td>0.041587</td>\n",
       "      <td>A</td>\n",
       "      <td>A1</td>\n",
       "    </tr>\n",
       "    <tr>\n",
       "      <th>5</th>\n",
       "      <td>0.481833</td>\n",
       "      <td>0.394005</td>\n",
       "      <td>0.503150</td>\n",
       "      <td>B</td>\n",
       "      <td>A1</td>\n",
       "    </tr>\n",
       "    <tr>\n",
       "      <th>6</th>\n",
       "      <td>0.430750</td>\n",
       "      <td>0.769627</td>\n",
       "      <td>0.838887</td>\n",
       "      <td>B</td>\n",
       "      <td>A1</td>\n",
       "    </tr>\n",
       "    <tr>\n",
       "      <th>7</th>\n",
       "      <td>0.882731</td>\n",
       "      <td>0.122181</td>\n",
       "      <td>0.393370</td>\n",
       "      <td>B</td>\n",
       "      <td>A1</td>\n",
       "    </tr>\n",
       "    <tr>\n",
       "      <th>8</th>\n",
       "      <td>0.622302</td>\n",
       "      <td>0.943480</td>\n",
       "      <td>0.715790</td>\n",
       "      <td>B</td>\n",
       "      <td>A1</td>\n",
       "    </tr>\n",
       "    <tr>\n",
       "      <th>9</th>\n",
       "      <td>0.419627</td>\n",
       "      <td>0.882003</td>\n",
       "      <td>0.629938</td>\n",
       "      <td>B</td>\n",
       "      <td>A1</td>\n",
       "    </tr>\n",
       "  </tbody>\n",
       "</table>\n",
       "</div>"
      ],
      "text/plain": [
       "         A1        B1        C1 group A1_normed_by_group\n",
       "0  0.045894  0.093716  0.932221     A                 A1\n",
       "1  0.738293  0.249943  0.518687     A                 A1\n",
       "2  0.357182  0.454217  0.575472     A                 A1\n",
       "3  0.289010  0.453426  0.211871     A                 A1\n",
       "4  0.328628  0.396641  0.041587     A                 A1\n",
       "5  0.481833  0.394005  0.503150     B                 A1\n",
       "6  0.430750  0.769627  0.838887     B                 A1\n",
       "7  0.882731  0.122181  0.393370     B                 A1\n",
       "8  0.622302  0.943480  0.715790     B                 A1\n",
       "9  0.419627  0.882003  0.629938     B                 A1"
      ]
     },
     "execution_count": 5,
     "metadata": {},
     "output_type": "execute_result"
    }
   ],
   "source": [
    "# No need to import anything!\n",
    "\n",
    "# Add a group col\n",
    "df = randdf()\n",
    "df['group'] = ['A'] * 5 + ['B'] * 5\n",
    "\n",
    "# This is a new method!\n",
    "new_df = df.norm_by_group('group', 'A1')\n",
    "new_df"
   ]
  },
  {
   "attachments": {},
   "cell_type": "markdown",
   "metadata": {},
   "source": [
    "You can use the `scale` and `center` args to control whether mean-centering and dividing by standard-deviation are done (both default to `True`). This will also change the generated column name appropriately:"
   ]
  },
  {
   "cell_type": "code",
   "execution_count": 6,
   "metadata": {},
   "outputs": [
    {
     "data": {
      "text/html": [
       "<div>\n",
       "<style scoped>\n",
       "    .dataframe tbody tr th:only-of-type {\n",
       "        vertical-align: middle;\n",
       "    }\n",
       "\n",
       "    .dataframe tbody tr th {\n",
       "        vertical-align: top;\n",
       "    }\n",
       "\n",
       "    .dataframe thead th {\n",
       "        text-align: right;\n",
       "    }\n",
       "</style>\n",
       "<table border=\"1\" class=\"dataframe\">\n",
       "  <thead>\n",
       "    <tr style=\"text-align: right;\">\n",
       "      <th></th>\n",
       "      <th>A1</th>\n",
       "      <th>B1</th>\n",
       "      <th>C1</th>\n",
       "      <th>group</th>\n",
       "      <th>A1_normed_by_group</th>\n",
       "      <th>A1_centered_by_group</th>\n",
       "    </tr>\n",
       "  </thead>\n",
       "  <tbody>\n",
       "    <tr>\n",
       "      <th>0</th>\n",
       "      <td>0.045894</td>\n",
       "      <td>0.093716</td>\n",
       "      <td>0.932221</td>\n",
       "      <td>A</td>\n",
       "      <td>A1</td>\n",
       "      <td>A1</td>\n",
       "    </tr>\n",
       "    <tr>\n",
       "      <th>1</th>\n",
       "      <td>0.738293</td>\n",
       "      <td>0.249943</td>\n",
       "      <td>0.518687</td>\n",
       "      <td>A</td>\n",
       "      <td>A1</td>\n",
       "      <td>A1</td>\n",
       "    </tr>\n",
       "    <tr>\n",
       "      <th>2</th>\n",
       "      <td>0.357182</td>\n",
       "      <td>0.454217</td>\n",
       "      <td>0.575472</td>\n",
       "      <td>A</td>\n",
       "      <td>A1</td>\n",
       "      <td>A1</td>\n",
       "    </tr>\n",
       "    <tr>\n",
       "      <th>3</th>\n",
       "      <td>0.289010</td>\n",
       "      <td>0.453426</td>\n",
       "      <td>0.211871</td>\n",
       "      <td>A</td>\n",
       "      <td>A1</td>\n",
       "      <td>A1</td>\n",
       "    </tr>\n",
       "    <tr>\n",
       "      <th>4</th>\n",
       "      <td>0.328628</td>\n",
       "      <td>0.396641</td>\n",
       "      <td>0.041587</td>\n",
       "      <td>A</td>\n",
       "      <td>A1</td>\n",
       "      <td>A1</td>\n",
       "    </tr>\n",
       "    <tr>\n",
       "      <th>5</th>\n",
       "      <td>0.481833</td>\n",
       "      <td>0.394005</td>\n",
       "      <td>0.503150</td>\n",
       "      <td>B</td>\n",
       "      <td>A1</td>\n",
       "      <td>A1</td>\n",
       "    </tr>\n",
       "    <tr>\n",
       "      <th>6</th>\n",
       "      <td>0.430750</td>\n",
       "      <td>0.769627</td>\n",
       "      <td>0.838887</td>\n",
       "      <td>B</td>\n",
       "      <td>A1</td>\n",
       "      <td>A1</td>\n",
       "    </tr>\n",
       "    <tr>\n",
       "      <th>7</th>\n",
       "      <td>0.882731</td>\n",
       "      <td>0.122181</td>\n",
       "      <td>0.393370</td>\n",
       "      <td>B</td>\n",
       "      <td>A1</td>\n",
       "      <td>A1</td>\n",
       "    </tr>\n",
       "    <tr>\n",
       "      <th>8</th>\n",
       "      <td>0.622302</td>\n",
       "      <td>0.943480</td>\n",
       "      <td>0.715790</td>\n",
       "      <td>B</td>\n",
       "      <td>A1</td>\n",
       "      <td>A1</td>\n",
       "    </tr>\n",
       "    <tr>\n",
       "      <th>9</th>\n",
       "      <td>0.419627</td>\n",
       "      <td>0.882003</td>\n",
       "      <td>0.629938</td>\n",
       "      <td>B</td>\n",
       "      <td>A1</td>\n",
       "      <td>A1</td>\n",
       "    </tr>\n",
       "  </tbody>\n",
       "</table>\n",
       "</div>"
      ],
      "text/plain": [
       "         A1        B1        C1 group A1_normed_by_group A1_centered_by_group\n",
       "0  0.045894  0.093716  0.932221     A                 A1                   A1\n",
       "1  0.738293  0.249943  0.518687     A                 A1                   A1\n",
       "2  0.357182  0.454217  0.575472     A                 A1                   A1\n",
       "3  0.289010  0.453426  0.211871     A                 A1                   A1\n",
       "4  0.328628  0.396641  0.041587     A                 A1                   A1\n",
       "5  0.481833  0.394005  0.503150     B                 A1                   A1\n",
       "6  0.430750  0.769627  0.838887     B                 A1                   A1\n",
       "7  0.882731  0.122181  0.393370     B                 A1                   A1\n",
       "8  0.622302  0.943480  0.715790     B                 A1                   A1\n",
       "9  0.419627  0.882003  0.629938     B                 A1                   A1"
      ]
     },
     "execution_count": 6,
     "metadata": {},
     "output_type": "execute_result"
    }
   ],
   "source": [
    "new_df.norm_by_group('group', 'A1', scale=False)"
   ]
  }
 ],
 "metadata": {
  "kernelspec": {
   "display_name": "Python 3.8.5 ('.venv': poetry)",
   "language": "python",
   "name": "python3"
  },
  "language_info": {
   "codemirror_mode": {
    "name": "ipython",
    "version": 3
   },
   "file_extension": ".py",
   "mimetype": "text/x-python",
   "name": "python",
   "nbconvert_exporter": "python",
   "pygments_lexer": "ipython3",
   "version": "3.8.5"
  },
  "orig_nbformat": 4,
  "vscode": {
   "interpreter": {
    "hash": "b0f858a66e4a26b037bdca3133e1ac93b99ec6a5b92854b48dfc417c922fdf7e"
   }
  }
 },
 "nbformat": 4,
 "nbformat_minor": 2
}
